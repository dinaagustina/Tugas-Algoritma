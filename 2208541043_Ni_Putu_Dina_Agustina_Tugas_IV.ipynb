{
  "nbformat": 4,
  "nbformat_minor": 0,
  "metadata": {
    "colab": {
      "provenance": []
    },
    "kernelspec": {
      "name": "python3",
      "display_name": "Python 3"
    },
    "language_info": {
      "name": "python"
    }
  },
  "cells": [
    {
      "cell_type": "markdown",
      "source": [
        "# **TUGAS ALGORITMA DAN STRUKTUR DATA IV**\n",
        "\n",
        "\n",
        "Pembahasan materi :\n",
        "1. While Loop\n",
        "2. List\n",
        "3. Metoda List\n",
        "4. For Loop\n",
        "5. Fungsi Range"
      ],
      "metadata": {
        "id": "iab3ysnKCqXT"
      }
    },
    {
      "cell_type": "markdown",
      "source": [
        "# Pembahasan 1 : While Loop\n",
        "\n",
        "\n",
        "While Loop akan selalu dieksekusi atau dijalankan selama nilainya TRUE atau BENAR dan akan berhenti saat nilainya menjadi FALSE atau SALAH. Pada While Loop akan dilakukan pengecekan kondisi terlebih dahulu. Adapun contoh dari penerapan While Loop adalah sebagai berikut :"
      ],
      "metadata": {
        "id": "GxvwXOzQDUKD"
      }
    },
    {
      "cell_type": "code",
      "source": [
        "#deklarasikan nilai a lebih dulu\n",
        "a = 0\n",
        "while a < 7 : \n",
        "  print(\"Angka \" + str(a) + \" masih di bawah kkm\" )\n",
        "  a += 1\n",
        "#ini akan dilakukan eksekusi mulai dari a=0 kemudian dilanjutkan dengan a=1 \n",
        "#hingga a=6 karena syarat yang diberikan adalah a<7 sehingga 7 tidak termasuk\n",
        "#eksekusi akan dijalankan selama nilainya true dan berhenti jika datanya \n",
        "#menghasilkan false"
      ],
      "metadata": {
        "colab": {
          "base_uri": "https://localhost:8080/"
        },
        "id": "A4wDC2D8ITEf",
        "outputId": "b2430edc-40b8-4edf-ff6f-60347839acfa"
      },
      "execution_count": 38,
      "outputs": [
        {
          "output_type": "stream",
          "name": "stdout",
          "text": [
            "Angka 0 masih di bawah kkm\n",
            "Angka 1 masih di bawah kkm\n",
            "Angka 2 masih di bawah kkm\n",
            "Angka 3 masih di bawah kkm\n",
            "Angka 4 masih di bawah kkm\n",
            "Angka 5 masih di bawah kkm\n",
            "Angka 6 masih di bawah kkm\n"
          ]
        }
      ]
    },
    {
      "cell_type": "code",
      "source": [
        "#deklarasikan nilai a\n",
        "a = 1\n",
        "while a < 8 :\n",
        "  print(\"Anda tidak lulus\")\n",
        "  a += 1\n",
        "#sesuai dengan penjelasan sebelumnya, maka ini akan dilakukan perulangan hingga\n",
        "#a=7 \n",
        "#untuk a+ itu artinya setiap nilai a akan dinaikkan 1 untuk dieksekusi \n",
        "#misal a pertama = 1, kemudian a selanjutnya yang akan dieksekusi adalah 2 \n",
        "#begitu pun seterusnya"
      ],
      "metadata": {
        "colab": {
          "base_uri": "https://localhost:8080/"
        },
        "id": "sLL0HXfXIbV2",
        "outputId": "bcae34de-4740-4be5-fac7-99ed221ebf44"
      },
      "execution_count": 50,
      "outputs": [
        {
          "output_type": "stream",
          "name": "stdout",
          "text": [
            "Anda tidak lulus\n",
            "Anda tidak lulus\n",
            "Anda tidak lulus\n",
            "Anda tidak lulus\n",
            "Anda tidak lulus\n",
            "Anda tidak lulus\n",
            "Anda tidak lulus\n"
          ]
        }
      ]
    },
    {
      "cell_type": "code",
      "source": [
        "#deklarasikan a\n",
        "a = 0\n",
        "while a <= 10 :\n",
        "  print(\"Perulangan selesai\")\n",
        "  a += 1\n",
        "#ini penjelasannya juga sama, hanya saja perulangannya lebih banyak \n",
        "#sesuai dengan syarat yang diberikan"
      ],
      "metadata": {
        "colab": {
          "base_uri": "https://localhost:8080/"
        },
        "id": "YDI4ATHGJYt-",
        "outputId": "29c1c1ba-b155-400d-ed53-38039b83fd52"
      },
      "execution_count": 52,
      "outputs": [
        {
          "output_type": "stream",
          "name": "stdout",
          "text": [
            "Perulangan selesai\n",
            "Perulangan selesai\n",
            "Perulangan selesai\n",
            "Perulangan selesai\n",
            "Perulangan selesai\n",
            "Perulangan selesai\n",
            "Perulangan selesai\n",
            "Perulangan selesai\n",
            "Perulangan selesai\n",
            "Perulangan selesai\n",
            "Perulangan selesai\n"
          ]
        }
      ]
    },
    {
      "cell_type": "markdown",
      "source": [
        "# Pembahasan 2 : List\n",
        "\n",
        "\n",
        "List digunakan untuk merepresentasikan objek dalam Phyton yang berupa string maupun angka. List dapat digunakan untuk memanggil urutannya bahkan dapat digunakan untuk merubah isinya. Adapun contoh dari penerapan List adalah sebagai berikut : "
      ],
      "metadata": {
        "id": "ydJIqD4rLz_E"
      }
    },
    {
      "cell_type": "code",
      "source": [
        "#deklarasikan bunga\n",
        "bunga = ['Anggrek', 'Jempiring', 'Melati', 'Mawar', 'Teratai']\n",
        "print(bunga)\n",
        "#ini akan dikeluarkan hasil sesuai dengan data yang telah dideklarasikan "
      ],
      "metadata": {
        "colab": {
          "base_uri": "https://localhost:8080/"
        },
        "id": "ZK88HyUaL8E4",
        "outputId": "39aa1333-6879-4cd3-d877-78ed811032d2"
      },
      "execution_count": 53,
      "outputs": [
        {
          "output_type": "stream",
          "name": "stdout",
          "text": [
            "['Anggrek', 'Jempiring', 'Melati', 'Mawar', 'Teratai']\n"
          ]
        }
      ]
    },
    {
      "cell_type": "code",
      "source": [
        "print(bunga[3])\n",
        "#ini untuk memanggil indeks ke-3 yang ada pada data kita"
      ],
      "metadata": {
        "colab": {
          "base_uri": "https://localhost:8080/"
        },
        "id": "NHM6xYufMxlp",
        "outputId": "0b99de6d-5e43-4a8e-e09e-4f7e8c7fdb30"
      },
      "execution_count": 54,
      "outputs": [
        {
          "output_type": "stream",
          "name": "stdout",
          "text": [
            "Mawar\n"
          ]
        }
      ]
    },
    {
      "cell_type": "code",
      "source": [
        "print(bunga[-1])\n",
        "#ini juga untuk memanggil indeks ke (-1) atau data terakhir \n",
        "#sesuai dengan penjelasan terdahulu bahwa indeks -1 untuk menandakan data \n",
        "#paling akhir atau data pertama dari belakang"
      ],
      "metadata": {
        "colab": {
          "base_uri": "https://localhost:8080/"
        },
        "id": "25UeVUfpM1ta",
        "outputId": "2bbf4871-7f7c-48ac-cb0d-6d9e3c34ee7b"
      },
      "execution_count": 59,
      "outputs": [
        {
          "output_type": "stream",
          "name": "stdout",
          "text": [
            "Teratai\n"
          ]
        }
      ]
    },
    {
      "cell_type": "code",
      "source": [
        "print(bunga[-3])\n",
        "#ini juga untuk memanggil indeks -3 yaitu data ketiga dari belakang bernilai -3\n",
        "#untuk data minus itu artinya dipanggil dari urutan data paling belakang"
      ],
      "metadata": {
        "colab": {
          "base_uri": "https://localhost:8080/"
        },
        "id": "XH-nRBQfM5bu",
        "outputId": "cb89dc49-e9e6-4dee-f430-63d89e213b3c"
      },
      "execution_count": 60,
      "outputs": [
        {
          "output_type": "stream",
          "name": "stdout",
          "text": [
            "Melati\n"
          ]
        }
      ]
    },
    {
      "cell_type": "code",
      "source": [
        "bunga[-4] = 'Sandat'\n",
        "print(bunga)\n",
        "#ini untuk memanggil indeks -4 yaitu data keempat dari belakang bernilai -4\n",
        "#pada contoh ini untuk indeks -4 itu diganti jadi sandat dari awalnya jempiring\n",
        "#jadi ini berfungsi untuk menggantikan data sebelumnya dengan data baru yang\n",
        "#akan kita input"
      ],
      "metadata": {
        "colab": {
          "base_uri": "https://localhost:8080/"
        },
        "id": "xGJGUtaFNHxA",
        "outputId": "a88fb926-82f3-4385-bad1-e5d9fabd94da"
      },
      "execution_count": 61,
      "outputs": [
        {
          "output_type": "stream",
          "name": "stdout",
          "text": [
            "['Anggrek', 'Sandat', 'Melati', 'Mawar', 'Teratai']\n"
          ]
        }
      ]
    },
    {
      "cell_type": "markdown",
      "source": [
        "# Pembahasan 3 : Metoda List\n",
        "\n",
        "Seperti yang telah dijelaskan sebelumnya yaitu, list dapat dimanipulasi dengan menambahkan atau menghilangkan elemen-elemen yang ada di dalam data atau objek tersebut. misal kita memiliki nilai a,b,c lalu kita ingin menambahkan d,e dan f atau pun mau menghapuskan a dan b, itu bisa menggunakan metoda list. Untuk contoh pembahasannya adalah sebagai berikut :"
      ],
      "metadata": {
        "id": "tfOAhCCBRrOo"
      }
    },
    {
      "cell_type": "code",
      "source": [
        "#Deklarasi List\n",
        "list_nilai = [2,4,6,8,10]\n",
        "\n",
        "#menampilkan list dari data yang telah dideklarasikan\n",
        "print(list_nilai)"
      ],
      "metadata": {
        "colab": {
          "base_uri": "https://localhost:8080/"
        },
        "id": "V_r24EOjOebT",
        "outputId": "5857253f-1e29-4b8b-c344-d108a751a0ac"
      },
      "execution_count": 71,
      "outputs": [
        {
          "output_type": "stream",
          "name": "stdout",
          "text": [
            "[2, 4, 6, 8, 10]\n"
          ]
        }
      ]
    },
    {
      "cell_type": "code",
      "source": [
        "#menggunakan len\n",
        "print(len(list_nilai))\n",
        "#ini untuk menentukan jumlah atau banyaknya data atau panjang data"
      ],
      "metadata": {
        "colab": {
          "base_uri": "https://localhost:8080/"
        },
        "id": "w3dnzrWOOzhq",
        "outputId": "8315207e-6ce7-42e1-c2f2-221a77052e74"
      },
      "execution_count": 72,
      "outputs": [
        {
          "output_type": "stream",
          "name": "stdout",
          "text": [
            "5\n"
          ]
        }
      ]
    },
    {
      "cell_type": "code",
      "source": [
        "#menggunakan count\n",
        "print(\"Jumlah nilai 6 dalam List :\")\n",
        "list_nilai.count(6)\n",
        "#ini dipakai untuk mengetahui jumlah atau banyaknya nilai tersebut ada berapa"
      ],
      "metadata": {
        "colab": {
          "base_uri": "https://localhost:8080/"
        },
        "id": "oMlxHCTYPCrI",
        "outputId": "46875f34-a4f7-492c-d838-9b2750c22e4e"
      },
      "execution_count": 74,
      "outputs": [
        {
          "output_type": "stream",
          "name": "stdout",
          "text": [
            "Jumlah nilai 6 dalam List :\n"
          ]
        },
        {
          "output_type": "execute_result",
          "data": {
            "text/plain": [
              "1"
            ]
          },
          "metadata": {},
          "execution_count": 74
        }
      ]
    },
    {
      "cell_type": "code",
      "source": [
        "#menggunakan append\n",
        "list_nilai.append(1)\n",
        "list_nilai.append(3)\n",
        "list_nilai.append(5)\n",
        "print(list_nilai)\n",
        "#ini digunakan untuk menambahkan satu atau beberapa elemen ke dalam data yang \n",
        "#kita miliki"
      ],
      "metadata": {
        "colab": {
          "base_uri": "https://localhost:8080/"
        },
        "id": "mHAomIs3RFCe",
        "outputId": "06c69471-df8b-44ba-c6e0-0a17fea521d4"
      },
      "execution_count": 83,
      "outputs": [
        {
          "output_type": "stream",
          "name": "stdout",
          "text": [
            "[2, 4, 6, 8, 10, 1, 3, 5]\n"
          ]
        }
      ]
    },
    {
      "cell_type": "code",
      "source": [
        "#menggunakan remove\n",
        "list_nilai.remove(1)\n",
        "list_nilai.remove(3)\n",
        "list_nilai.remove(5)\n",
        "print(list_nilai)"
      ],
      "metadata": {
        "colab": {
          "base_uri": "https://localhost:8080/"
        },
        "id": "lGCkdS5JQnJj",
        "outputId": "39771c65-c0b2-4c83-8837-e74bd4c4cbb6"
      },
      "execution_count": 82,
      "outputs": [
        {
          "output_type": "stream",
          "name": "stdout",
          "text": [
            "[2, 4, 6, 8, 10]\n"
          ]
        }
      ]
    },
    {
      "cell_type": "code",
      "source": [
        "#menggunakan indeks\n",
        "list_nilai.index(4)\n",
        "#ini digunakan untuk menentukan posisi atau indeks dari data yang kita cari"
      ],
      "metadata": {
        "colab": {
          "base_uri": "https://localhost:8080/"
        },
        "id": "chN44l3XQvlx",
        "outputId": "974db4d8-7434-4c9e-cb83-93ced93d4057"
      },
      "execution_count": 89,
      "outputs": [
        {
          "output_type": "execute_result",
          "data": {
            "text/plain": [
              "1"
            ]
          },
          "metadata": {},
          "execution_count": 89
        }
      ]
    },
    {
      "cell_type": "code",
      "source": [
        "#menggunakan insert\n",
        "list_nilai = [2,4,6,8,10]\n",
        "list_nilai.insert(0, 1)\n",
        "print(list_nilai)\n",
        "#insert digunakan untuk menambahkan suatu data pada data yang telah dimiliki\n",
        "#insert digunakan untuk menentukan posisinya misalnya pada indeks 0 ataupun pada \n",
        "#indeks yang lainnya"
      ],
      "metadata": {
        "colab": {
          "base_uri": "https://localhost:8080/"
        },
        "id": "TpgcC2OsSgxX",
        "outputId": "9de59cde-1cdd-4154-f818-12a584024c0c"
      },
      "execution_count": 100,
      "outputs": [
        {
          "output_type": "stream",
          "name": "stdout",
          "text": [
            "[1, 2, 4, 6, 8, 10]\n"
          ]
        }
      ]
    },
    {
      "cell_type": "code",
      "source": [
        "#menggunakan extend\n",
        "list_nilai2 = [12,14,16]\n",
        "list_nilai.extend(list_nilai2)\n",
        "print(list_nilai)\n",
        "#ini digunakan untuk menambahkan beberapa data dalam jumlah yang banyak"
      ],
      "metadata": {
        "colab": {
          "base_uri": "https://localhost:8080/"
        },
        "id": "LwmphXjDTVV5",
        "outputId": "3d842a67-a754-48ec-9d9b-e2b1c6e4507a"
      },
      "execution_count": 105,
      "outputs": [
        {
          "output_type": "stream",
          "name": "stdout",
          "text": [
            "[1, 2, 4, 6, 8, 10, 12, 14, 16]\n"
          ]
        }
      ]
    },
    {
      "cell_type": "code",
      "source": [
        "#menggunakan reverse\n",
        "list_nilai.reverse()\n",
        "print(list_nilai)\n",
        "#ini digunakan untuk membalikkan urutan data dari yang awalnya 1,2,4,6,8,10,12,\n",
        "#14,16 jadi 16,14,12,10,8,6,4,2,1"
      ],
      "metadata": {
        "colab": {
          "base_uri": "https://localhost:8080/"
        },
        "id": "9HAbSwiwUac8",
        "outputId": "9f91f91b-f635-4740-e4cf-79b485a3b0f2"
      },
      "execution_count": 109,
      "outputs": [
        {
          "output_type": "stream",
          "name": "stdout",
          "text": [
            "[16, 14, 12, 10, 8, 6, 4, 2, 1]\n"
          ]
        }
      ]
    },
    {
      "cell_type": "code",
      "source": [
        "#menggunakan sort\n",
        "list_nilai.sort()\n",
        "print(list_nilai)\n",
        "#ini digunakan untuk mengurutkan nilai dari yang terkecil ke terbesar"
      ],
      "metadata": {
        "colab": {
          "base_uri": "https://localhost:8080/"
        },
        "id": "Ib775Nd1Vc4P",
        "outputId": "860ee70b-ea1c-4acd-89a6-62eb854c0fea"
      },
      "execution_count": 110,
      "outputs": [
        {
          "output_type": "stream",
          "name": "stdout",
          "text": [
            "[1, 2, 4, 6, 8, 10, 12, 14, 16]\n"
          ]
        }
      ]
    },
    {
      "cell_type": "code",
      "source": [
        "#menggunakan max\n",
        "max(list_nilai)\n",
        "#sesuai namanya, ini digunakan untuk mencari nilai tertinggi dari data yang kita\n",
        "#miliki"
      ],
      "metadata": {
        "colab": {
          "base_uri": "https://localhost:8080/"
        },
        "id": "ATeIvca5WSts",
        "outputId": "e2a601b8-f834-48a3-8059-a1fc74e0ab78"
      },
      "execution_count": 114,
      "outputs": [
        {
          "output_type": "execute_result",
          "data": {
            "text/plain": [
              "16"
            ]
          },
          "metadata": {},
          "execution_count": 114
        }
      ]
    },
    {
      "cell_type": "code",
      "source": [
        "#menggunakan min\n",
        "min(list_nilai)\n",
        "#min ini digunakan untuk mencari nilai terendah dalam data yang kita punya"
      ],
      "metadata": {
        "colab": {
          "base_uri": "https://localhost:8080/"
        },
        "id": "l9dTRFTYWnDo",
        "outputId": "6cb2200b-cea7-4c76-e02a-64d27b480f1d"
      },
      "execution_count": 115,
      "outputs": [
        {
          "output_type": "execute_result",
          "data": {
            "text/plain": [
              "1"
            ]
          },
          "metadata": {},
          "execution_count": 115
        }
      ]
    },
    {
      "cell_type": "code",
      "source": [
        "#menggunakan sum\n",
        "sum(list_nilai)\n",
        "#sum digunakan untuk menghitung jumlah dari data yang kita punya"
      ],
      "metadata": {
        "colab": {
          "base_uri": "https://localhost:8080/"
        },
        "id": "aFU_8aTBW0i7",
        "outputId": "94900af7-7550-40d0-bff8-0301eb9e89f3"
      },
      "execution_count": 116,
      "outputs": [
        {
          "output_type": "execute_result",
          "data": {
            "text/plain": [
              "73"
            ]
          },
          "metadata": {},
          "execution_count": 116
        }
      ]
    },
    {
      "cell_type": "markdown",
      "source": [
        "# Pembahasan 4 : For Loop\n",
        "\n",
        "For Loop ini dapat digunakan untuk memanggil semua isi list. For loop merupakan salah satu jenis pengulangan yang sudah diketahui kapan mulainya dan kapan akan selesai. Pada For Loop ini terjadi eksekusi terhadap blok kode yang dilakukan berulang kali sesuai dengan variabel yang mengatur perulangan. Adapun contoh penerapan For Loop adalah :"
      ],
      "metadata": {
        "id": "mg5J9dveXQuD"
      }
    },
    {
      "cell_type": "code",
      "source": [
        "warna = ['merah', 'kuning','hijau','biru']\n",
        "buah = ['apel', 'lemon', 'mangga', 'blueberry']\n",
        "for x in warna : \n",
        "  for y in buah :\n",
        "    print(x,y)\n",
        "#ini digunakan untuk melakukan perulangan x,y sesuai dengan data yang telah\n",
        "#dideklarasikan sebelumnya\n",
        "#for loop disini digunakan untuk memanggil seluruh isi list yang ada"
      ],
      "metadata": {
        "colab": {
          "base_uri": "https://localhost:8080/"
        },
        "id": "WUgEIMIwafDL",
        "outputId": "a65a7b5f-8371-4fd8-9adf-c296028a185d"
      },
      "execution_count": 123,
      "outputs": [
        {
          "output_type": "stream",
          "name": "stdout",
          "text": [
            "merah apel\n",
            "merah lemon\n",
            "merah mangga\n",
            "merah blueberry\n",
            "kuning apel\n",
            "kuning lemon\n",
            "kuning mangga\n",
            "kuning blueberry\n",
            "hijau apel\n",
            "hijau lemon\n",
            "hijau mangga\n",
            "hijau blueberry\n",
            "biru apel\n",
            "biru lemon\n",
            "biru mangga\n",
            "biru blueberry\n"
          ]
        }
      ]
    },
    {
      "cell_type": "code",
      "source": [
        "mahasiswa = ['putu', 'made', 'komang', 'ketut', 'luh', 'wayan']\n",
        "for nama in mahasiswa :\n",
        "  print (mahasiswa)\n",
        "#ini dilakukan perulangan sebanyak jumlah data yang dimiliki"
      ],
      "metadata": {
        "colab": {
          "base_uri": "https://localhost:8080/"
        },
        "id": "YtIM2-wufzaD",
        "outputId": "8165ba9d-fac6-47ea-d4e9-991a9320ae0b"
      },
      "execution_count": 134,
      "outputs": [
        {
          "output_type": "stream",
          "name": "stdout",
          "text": [
            "['putu', 'made', 'komang', 'ketut', 'luh', 'wayan']\n",
            "['putu', 'made', 'komang', 'ketut', 'luh', 'wayan']\n",
            "['putu', 'made', 'komang', 'ketut', 'luh', 'wayan']\n",
            "['putu', 'made', 'komang', 'ketut', 'luh', 'wayan']\n",
            "['putu', 'made', 'komang', 'ketut', 'luh', 'wayan']\n",
            "['putu', 'made', 'komang', 'ketut', 'luh', 'wayan']\n"
          ]
        }
      ]
    },
    {
      "cell_type": "code",
      "source": [
        "mahasiswa = ['putu', 'made', \n",
        "             'komang', 'ketut', 'luh', 'wayan']\n",
        "for nama in mahasiswa :\n",
        "  print (nama)\n",
        "#ini untuk menghasilkan nama-nama mahasiswanya ada apa aja. \n",
        "#kalau contoh atas dia buat mahasiswa dengan nama itu diulang sebanyak data \n",
        "#yang kita miliki\n",
        "#mahasiswa itu dipandang sebagai 1 kesatuan sehingga diulang terus sejumlah data\n",
        "#mahasiswanya yaitu 6 kali"
      ],
      "metadata": {
        "colab": {
          "base_uri": "https://localhost:8080/"
        },
        "id": "aipI5BfhhDHJ",
        "outputId": "8761a423-db1a-46c6-bbf6-88c5db504730"
      },
      "execution_count": 133,
      "outputs": [
        {
          "output_type": "stream",
          "name": "stdout",
          "text": [
            "putu\n",
            "made\n",
            "komang\n",
            "ketut\n",
            "luh\n",
            "wayan\n"
          ]
        }
      ]
    },
    {
      "cell_type": "code",
      "source": [
        "benda = ['lemari','meja','kaca']\n",
        "for jenis in benda :\n",
        "  print (benda)\n",
        "#ini perulangan yang dikeluarkan sesuai jumlah data benda yang dimiliki"
      ],
      "metadata": {
        "colab": {
          "base_uri": "https://localhost:8080/"
        },
        "id": "gxyI1yTAgFc-",
        "outputId": "dae4c852-5fdd-4755-84fe-ba64cced69e9"
      },
      "execution_count": 130,
      "outputs": [
        {
          "output_type": "stream",
          "name": "stdout",
          "text": [
            "['lemari', 'meja', 'kaca']\n",
            "['lemari', 'meja', 'kaca']\n",
            "['lemari', 'meja', 'kaca']\n"
          ]
        }
      ]
    },
    {
      "cell_type": "code",
      "source": [
        "benda = ['lemari','meja','kaca']\n",
        "for jenis in benda :\n",
        "  print (jenis)\n",
        "#ini untuk luarannya adalah jenis,jadi ga semua bendanya diulang tapi jenis \n",
        "#bendanya apa aja maka itu yang akan dikeluarkan"
      ],
      "metadata": {
        "colab": {
          "base_uri": "https://localhost:8080/"
        },
        "id": "8LtZ2Ev_gcC_",
        "outputId": "2e59357f-50b7-470b-c58d-825ca3a69256"
      },
      "execution_count": 132,
      "outputs": [
        {
          "output_type": "stream",
          "name": "stdout",
          "text": [
            "lemari\n",
            "meja\n",
            "kaca\n"
          ]
        }
      ]
    },
    {
      "cell_type": "markdown",
      "source": [
        "# Pembahasan 5 : Fungsi Range\n",
        "\n",
        "Fungsi range ini digunakan untuk membangkitkan bilangan berpola atau sesuai urutan (berurutan) sesuai dengan keinginan kita. Dalam penerapannya, fungsi ini dipadukan dengan For Loop. Adapun contoh penggunaan Fungsi Range adalah sebagai berikut : "
      ],
      "metadata": {
        "id": "0CtIWyUxeiKM"
      }
    },
    {
      "cell_type": "code",
      "source": [
        "n = [1,2,3,4,5,6,7,8,9,10,11,12,13,14,15,16]\n",
        "b = []\n",
        "for i in n :\n",
        "  b.append(i**2)\n",
        "  print(b)\n",
        "#proses menampilkan deret angka dilakukan oleh for dengan variabel counter i\n",
        "#dipakai untuk tinggi segitiga yang dimulai dari i=1 sampai i=16\n",
        "#jika pada proses input nilai berisi angka 9 maka perulangan akan dilakukan \n",
        "#sebanyak 9 kali \n",
        "#b.append itu digunakan untuk menambahkan angka di dalam [] yang telah\n",
        "#dideklarasikan sebelumnya"
      ],
      "metadata": {
        "colab": {
          "base_uri": "https://localhost:8080/"
        },
        "id": "-uOzhK4-dyiC",
        "outputId": "938e6a0e-4615-4730-8c15-98aa8d5997d8"
      },
      "execution_count": 124,
      "outputs": [
        {
          "output_type": "stream",
          "name": "stdout",
          "text": [
            "[1]\n",
            "[1, 4]\n",
            "[1, 4, 9]\n",
            "[1, 4, 9, 16]\n",
            "[1, 4, 9, 16, 25]\n",
            "[1, 4, 9, 16, 25, 36]\n",
            "[1, 4, 9, 16, 25, 36, 49]\n",
            "[1, 4, 9, 16, 25, 36, 49, 64]\n",
            "[1, 4, 9, 16, 25, 36, 49, 64, 81]\n",
            "[1, 4, 9, 16, 25, 36, 49, 64, 81, 100]\n",
            "[1, 4, 9, 16, 25, 36, 49, 64, 81, 100, 121]\n",
            "[1, 4, 9, 16, 25, 36, 49, 64, 81, 100, 121, 144]\n",
            "[1, 4, 9, 16, 25, 36, 49, 64, 81, 100, 121, 144, 169]\n",
            "[1, 4, 9, 16, 25, 36, 49, 64, 81, 100, 121, 144, 169, 196]\n",
            "[1, 4, 9, 16, 25, 36, 49, 64, 81, 100, 121, 144, 169, 196, 225]\n",
            "[1, 4, 9, 16, 25, 36, 49, 64, 81, 100, 121, 144, 169, 196, 225, 256]\n"
          ]
        }
      ]
    },
    {
      "cell_type": "code",
      "source": [
        "nilai = range(10)\n",
        "print(nilai)\n",
        "#range ini digunakan untuk menyatakan interval atau rentang suatu nilai"
      ],
      "metadata": {
        "colab": {
          "base_uri": "https://localhost:8080/"
        },
        "id": "rRI4FPH4fMKX",
        "outputId": "dd6f3488-d518-43c3-a2fb-bdfd91d8176c"
      },
      "execution_count": 135,
      "outputs": [
        {
          "output_type": "stream",
          "name": "stdout",
          "text": [
            "range(0, 10)\n"
          ]
        }
      ]
    },
    {
      "cell_type": "code",
      "source": [
        "for isi in nilai :\n",
        "  print (isi)\n",
        "#ini untuk menjabarkan nilai yang ada dalam range tersebut"
      ],
      "metadata": {
        "colab": {
          "base_uri": "https://localhost:8080/"
        },
        "id": "S9kVhZH0fBSS",
        "outputId": "e19d8013-b25d-4289-f6df-61a66cf8b0b1"
      },
      "execution_count": 137,
      "outputs": [
        {
          "output_type": "stream",
          "name": "stdout",
          "text": [
            "0\n",
            "1\n",
            "2\n",
            "3\n",
            "4\n",
            "5\n",
            "6\n",
            "7\n",
            "8\n",
            "9\n"
          ]
        }
      ]
    },
    {
      "cell_type": "code",
      "source": [
        "for isi in nilai:\n",
        "  print(nilai)\n",
        "#kalau kaya gini dia jadinya pengulangan dari range itu sendiri sesuai jumlah \n",
        "#range atau panjang barisannya "
      ],
      "metadata": {
        "colab": {
          "base_uri": "https://localhost:8080/"
        },
        "id": "Mp0bM5-qhww2",
        "outputId": "053fbc0a-d9b8-4514-8c11-e85b350e34a5"
      },
      "execution_count": 138,
      "outputs": [
        {
          "output_type": "stream",
          "name": "stdout",
          "text": [
            "range(0, 10)\n",
            "range(0, 10)\n",
            "range(0, 10)\n",
            "range(0, 10)\n",
            "range(0, 10)\n",
            "range(0, 10)\n",
            "range(0, 10)\n",
            "range(0, 10)\n",
            "range(0, 10)\n",
            "range(0, 10)\n"
          ]
        }
      ]
    },
    {
      "cell_type": "code",
      "source": [
        "for isi in range(1,15,2) :\n",
        "  print (isi)\n",
        "#ini digunakan untuk menjabarkan nilai dari range 1 hingga 15 dengan pola 2 \n",
        "#atau bisa disebut deretan bilangan ganjil "
      ],
      "metadata": {
        "colab": {
          "base_uri": "https://localhost:8080/"
        },
        "id": "7A6kC7WDh9UP",
        "outputId": "5233b194-7fe3-43e5-f150-fa850e5bf025"
      },
      "execution_count": 144,
      "outputs": [
        {
          "output_type": "stream",
          "name": "stdout",
          "text": [
            "1\n",
            "3\n",
            "5\n",
            "7\n",
            "9\n",
            "11\n",
            "13\n"
          ]
        }
      ]
    },
    {
      "cell_type": "code",
      "source": [
        "for isi in range(20,40,2) :\n",
        "  print(isi)\n",
        "#ini digunakan untuk menjabarkan nilai dari range 20 sampai 40 dengan pola 2\n",
        "#atau bisa disebut sebagai deretan bilangan genap"
      ],
      "metadata": {
        "colab": {
          "base_uri": "https://localhost:8080/"
        },
        "id": "xCdjBC28iQ5K",
        "outputId": "47960445-3b58-4b8d-d10b-a1947635fe21"
      },
      "execution_count": 145,
      "outputs": [
        {
          "output_type": "stream",
          "name": "stdout",
          "text": [
            "20\n",
            "22\n",
            "24\n",
            "26\n",
            "28\n",
            "30\n",
            "32\n",
            "34\n",
            "36\n",
            "38\n"
          ]
        }
      ]
    }
  ]
}