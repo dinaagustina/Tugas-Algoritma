{
  "nbformat": 4,
  "nbformat_minor": 0,
  "metadata": {
    "colab": {
      "provenance": []
    },
    "kernelspec": {
      "name": "python3",
      "display_name": "Python 3"
    },
    "language_info": {
      "name": "python"
    }
  },
  "cells": [
    {
      "cell_type": "code",
      "execution_count": null,
      "metadata": {
        "colab": {
          "base_uri": "https://localhost:8080/"
        },
        "id": "3QI0gE0fGW1o",
        "outputId": "1cabf7aa-b4c0-4c7d-e8e5-a10c7fc34003"
      },
      "outputs": [
        {
          "output_type": "stream",
          "name": "stdout",
          "text": [
            "Agas adalah peliharaan dari Anya yang berusia 3 Tahun dan berjenis kelamin Jantan\n"
          ]
        }
      ],
      "source": [
        "#Ini merupakan tugas III dari Matkul Algoritma\n",
        "\n",
        "#Formatted String : dipakai untuk mempermudah penulisan nilai variabel yang \n",
        "#ingin dicetak pada perintah print\n",
        "#Berikut contohnya :\n",
        "\n",
        "Nama_kucing = \"Agas\"\n",
        "Umur = \"3 Tahun\"\n",
        "Jenis_kelamin = \"Jantan\"\n",
        "Pemilik = \"Anya\"\n",
        "print (Nama_kucing + \" adalah peliharaan dari \" + Pemilik + \" yang berusia \" + Umur + \" dan berjenis kelamin \" + Jenis_kelamin)"
      ]
    },
    {
      "cell_type": "code",
      "source": [
        "print (f'{Nama_kucing} adalah peliharaan dari {Pemilik} yang berusia {Umur} dan berjenis kelamin {Jenis_kelamin}')\n",
        "#sama seperti penjelasan sebelumnya. disini ada yang ga make tanda petik karena udah didefinisikan terlebih dahulu sebelumnya\n"
      ],
      "metadata": {
        "colab": {
          "base_uri": "https://localhost:8080/"
        },
        "id": "rq9klZ8yIqvI",
        "outputId": "ed147c42-5ae1-45d3-fef0-47f0f494a31c"
      },
      "execution_count": null,
      "outputs": [
        {
          "output_type": "stream",
          "name": "stdout",
          "text": [
            "Agas adalah peliharaan dari Anya yang berusia 3 Tahun dan berjenis kelamin Jantan\n"
          ]
        }
      ]
    },
    {
      "cell_type": "code",
      "source": [
        "print (f\"{Nama_kucing} adalah kucing {Jenis_kelamin} yang berusia {Umur}\")\n",
        "#untuk yang isi tanda petik itu artinya yang bakal dihasilkan/output yang bakal diprint langsung"
      ],
      "metadata": {
        "colab": {
          "base_uri": "https://localhost:8080/"
        },
        "id": "ctQ_bc-KJJvl",
        "outputId": "f5c6213c-8168-432e-a039-962e0f5fec8f"
      },
      "execution_count": null,
      "outputs": [
        {
          "output_type": "stream",
          "name": "stdout",
          "text": [
            "Agas adalah kucing Jantan yang berusia 3 Tahun\n"
          ]
        }
      ]
    },
    {
      "cell_type": "code",
      "source": [
        "#String Index\n",
        "#Dalam phyton, data dapat diurutkan dari 0 dan seterusnya\n",
        "#kalau mau dari data paling belakang, itu jadinya -1, huruf kedua dari belakang\n",
        "#itu jadinya -2 dan seeterusnya\n",
        "\n",
        "Jurusan = \"ini jurusan matematika\"\n",
        "print (Jurusan[0:4])\n",
        "#ini karena indeks huruf i pertama itu diitung 0, terus koma juga termasuk\n",
        "#karena komanya ikut juga makanya 0 sampe 4 itu tetep kata ini sama isi spasi gitu bukan ini+j\n",
        "#karena standar phyton kaya gitu. kalo 0 sampe 4 memang dia itu kenanya huruf j, tapi dia keluarannya cuma sampai spasi\n",
        "#dia itu jadinya kaya ilang 1 indeksnya dari yang kita inginkan\n",
        "#i=0,n=1,i=2,spasinya=3,k=4, e=5 dst\n",
        "#terus kalau kita manggil 10, yang dateng itu sampe 9 nya"
      ],
      "metadata": {
        "id": "Ys1VLq7kLTak",
        "colab": {
          "base_uri": "https://localhost:8080/"
        },
        "outputId": "aee0d19d-a15d-4f9a-a5a1-8ec0b25517d4"
      },
      "execution_count": null,
      "outputs": [
        {
          "output_type": "stream",
          "name": "stdout",
          "text": [
            "ini \n"
          ]
        }
      ]
    },
    {
      "cell_type": "code",
      "source": [
        "Jurusan [5:2]\n",
        "#ini tu dia harus dari angka kecil ke besar karena urutannya diperhatikan"
      ],
      "metadata": {
        "colab": {
          "base_uri": "https://localhost:8080/",
          "height": 36
        },
        "id": "jWaPCFKww7Ws",
        "outputId": "5db02b07-6409-4037-c3fc-c3d9449ee424"
      },
      "execution_count": null,
      "outputs": [
        {
          "output_type": "execute_result",
          "data": {
            "text/plain": [
              "''"
            ],
            "application/vnd.google.colaboratory.intrinsic+json": {
              "type": "string"
            }
          },
          "metadata": {},
          "execution_count": 3
        }
      ]
    },
    {
      "cell_type": "code",
      "source": [
        "kelas = \"Pada hari Senin mahasiswa prodi matematika angkatan 2022 sedang mendapatkan kelas algoritma\"\n",
        "print (kelas[3:10])\n",
        "#ini sama kaya penjelasan sebelumnya, jadinya dia dari indeks 3 sampai"
      ],
      "metadata": {
        "colab": {
          "base_uri": "https://localhost:8080/"
        },
        "id": "Aa8IEQKaxhIV",
        "outputId": "3a9b125e-8a24-48a6-c31c-836ba7f453ef"
      },
      "execution_count": null,
      "outputs": [
        {
          "output_type": "stream",
          "name": "stdout",
          "text": [
            "a hari \n"
          ]
        }
      ]
    },
    {
      "cell_type": "code",
      "source": [
        "kelas = 'ini kelas algoritma dan struktur data' \n",
        "print (kelas[0:40])\n",
        "#ini dia ke print semua karena indeksnya cuma 36"
      ],
      "metadata": {
        "colab": {
          "base_uri": "https://localhost:8080/"
        },
        "id": "nAsMX-pcxqr0",
        "outputId": "f40cd620-c739-4655-e1dd-3630952c5ab3"
      },
      "execution_count": null,
      "outputs": [
        {
          "output_type": "stream",
          "name": "stdout",
          "text": [
            "ini kelas algoritma dan struktur data\n"
          ]
        }
      ]
    },
    {
      "cell_type": "code",
      "source": [
        "kelas[-13:-9]\n",
        "#ini untuk ngeprint dari belakang gitu\n",
        "#printnya harus dari bilangan negatif terkecil ke yang terbesar gitu gabisa dibalik"
      ],
      "metadata": {
        "colab": {
          "base_uri": "https://localhost:8080/",
          "height": 36
        },
        "id": "DYRcmttAxx-h",
        "outputId": "af3e4878-1ecc-4e3c-f59c-cb9436d07f8b"
      },
      "execution_count": null,
      "outputs": [
        {
          "output_type": "execute_result",
          "data": {
            "text/plain": [
              "'stru'"
            ],
            "application/vnd.google.colaboratory.intrinsic+json": {
              "type": "string"
            }
          },
          "metadata": {},
          "execution_count": 6
        }
      ]
    },
    {
      "cell_type": "code",
      "source": [
        "kelas [-9:-13]\n",
        "#ini dia gabisa keluar karena harusnya -13 ke -9 bukan -9 ke -13 gitu\n",
        "#tapi ini gaada error jadi ini seharusnya ada artinya juga\n",
        "#dia itungannya indeks -1 dari belakang\n",
        "#a=-1,t=-2, a=-3, d=-4, spasinya=-5 dst nya"
      ],
      "metadata": {
        "colab": {
          "base_uri": "https://localhost:8080/",
          "height": 36
        },
        "id": "Vl6kp70hx184",
        "outputId": "5a8f18ef-84ca-48ad-dce1-a1c14b9be035"
      },
      "execution_count": null,
      "outputs": [
        {
          "output_type": "execute_result",
          "data": {
            "text/plain": [
              "''"
            ],
            "application/vnd.google.colaboratory.intrinsic+json": {
              "type": "string"
            }
          },
          "metadata": {},
          "execution_count": 7
        }
      ]
    },
    {
      "cell_type": "code",
      "source": [
        "kelas [0:-1]\n",
        "#untuk huruf atau indeks paling akhir itu dinilai -1\n",
        "#karena mulai dari 0 makanya dia dari depan sampe indeks sebelum -1 atau indeks\n",
        "#kedua dari belakang"
      ],
      "metadata": {
        "colab": {
          "base_uri": "https://localhost:8080/",
          "height": 36
        },
        "id": "awPPuvFLyG9c",
        "outputId": "293265e7-6e1e-4749-f59e-16f2c76b7e39"
      },
      "execution_count": null,
      "outputs": [
        {
          "output_type": "execute_result",
          "data": {
            "text/plain": [
              "'ini kelas algoritma dan struktur dat'"
            ],
            "application/vnd.google.colaboratory.intrinsic+json": {
              "type": "string"
            }
          },
          "metadata": {},
          "execution_count": 8
        }
      ]
    },
    {
      "cell_type": "code",
      "source": [
        "#string methods\n",
        "judul = 'Beauty and the Beast'\n",
        "print(len(judul))\n",
        "#ini untuk menentukan panjangnya judul ada berapa (ini termasuk spasi)\n",
        "#urutan indeksnya 0 "
      ],
      "metadata": {
        "colab": {
          "base_uri": "https://localhost:8080/"
        },
        "id": "TSiqzGwwyONZ",
        "outputId": "1ae6b828-3690-40e1-f707-0d8c19cafc5c"
      },
      "execution_count": null,
      "outputs": [
        {
          "output_type": "stream",
          "name": "stdout",
          "text": [
            "20\n"
          ]
        }
      ]
    },
    {
      "cell_type": "code",
      "source": [
        "judul.upper()\n",
        "#ini dia jadi capslock semua kalo make upper"
      ],
      "metadata": {
        "colab": {
          "base_uri": "https://localhost:8080/",
          "height": 36
        },
        "id": "vVTt4-vpymwS",
        "outputId": "01b2b4a2-d89a-4e3b-f973-4498f9276c83"
      },
      "execution_count": null,
      "outputs": [
        {
          "output_type": "execute_result",
          "data": {
            "text/plain": [
              "'BEAUTY AND THE BEAST'"
            ],
            "application/vnd.google.colaboratory.intrinsic+json": {
              "type": "string"
            }
          },
          "metadata": {},
          "execution_count": 10
        }
      ]
    },
    {
      "cell_type": "code",
      "source": [
        "judul.lower()\n",
        "#ini untuk bikin tulisan kecil semua\n",
        "#kalau mau bikin beberapa aja besar hurufnya, dia makenya for gabisa make methods gini"
      ],
      "metadata": {
        "colab": {
          "base_uri": "https://localhost:8080/",
          "height": 36
        },
        "id": "VYj_6nJBzECg",
        "outputId": "094d12fa-f3e8-4df7-d211-bd8f35bd34fc"
      },
      "execution_count": null,
      "outputs": [
        {
          "output_type": "execute_result",
          "data": {
            "text/plain": [
              "'beauty and the beast'"
            ],
            "application/vnd.google.colaboratory.intrinsic+json": {
              "type": "string"
            }
          },
          "metadata": {},
          "execution_count": 11
        }
      ]
    },
    {
      "cell_type": "code",
      "source": [
        "judul.find(the)\n",
        "#ini error karena kurang tanda petik\n",
        "#sebelumnya the itu udah didefinisikan sebagai satu kesatuan dengan judul\n",
        "#jadi gabisa dipecah gitu tanpa petik"
      ],
      "metadata": {
        "colab": {
          "base_uri": "https://localhost:8080/",
          "height": 225
        },
        "id": "N1ty_roUzH-K",
        "outputId": "2bec71a4-07d1-434a-b681-c030344aaa7c"
      },
      "execution_count": null,
      "outputs": [
        {
          "output_type": "error",
          "ename": "NameError",
          "evalue": "ignored",
          "traceback": [
            "\u001b[0;31m---------------------------------------------------------------------------\u001b[0m",
            "\u001b[0;31mNameError\u001b[0m                                 Traceback (most recent call last)",
            "\u001b[0;32m<ipython-input-12-3aa961c481f5>\u001b[0m in \u001b[0;36m<module>\u001b[0;34m\u001b[0m\n\u001b[0;32m----> 1\u001b[0;31m \u001b[0mjudul\u001b[0m\u001b[0;34m.\u001b[0m\u001b[0mfind\u001b[0m\u001b[0;34m(\u001b[0m\u001b[0mthe\u001b[0m\u001b[0;34m)\u001b[0m\u001b[0;34m\u001b[0m\u001b[0;34m\u001b[0m\u001b[0m\n\u001b[0m\u001b[1;32m      2\u001b[0m \u001b[0;31m#ini error karena kurang tanda petik\u001b[0m\u001b[0;34m\u001b[0m\u001b[0;34m\u001b[0m\u001b[0m\n\u001b[1;32m      3\u001b[0m \u001b[0;31m#sebelumnya the itu udah didefinisikan sebagai satu kesatuan dengan judul\u001b[0m\u001b[0;34m\u001b[0m\u001b[0;34m\u001b[0m\u001b[0m\n\u001b[1;32m      4\u001b[0m \u001b[0;31m#jadi gabisa dipecah gitu tanpa petik\u001b[0m\u001b[0;34m\u001b[0m\u001b[0;34m\u001b[0m\u001b[0m\n",
            "\u001b[0;31mNameError\u001b[0m: name 'the' is not defined"
          ]
        }
      ]
    },
    {
      "cell_type": "code",
      "source": [
        "judul.find('the')\n",
        "#ini urutannya dia mulai dari 0 dst nya"
      ],
      "metadata": {
        "colab": {
          "base_uri": "https://localhost:8080/"
        },
        "id": "h73BHf7NzN2j",
        "outputId": "d06a1e51-1435-43cb-d123-7da693839c71"
      },
      "execution_count": null,
      "outputs": [
        {
          "output_type": "execute_result",
          "data": {
            "text/plain": [
              "11"
            ]
          },
          "metadata": {},
          "execution_count": 13
        }
      ]
    },
    {
      "cell_type": "code",
      "source": [
        "judul.find('Beauty')\n",
        "#Karena di judulnya diaa Beauty huruf besar makanya dia bisa terdeteksi 0 gitu"
      ],
      "metadata": {
        "colab": {
          "base_uri": "https://localhost:8080/"
        },
        "id": "GmsTfMeIzVLQ",
        "outputId": "3bbfc0bf-cb1b-4a74-c213-a7a4976ee1e4"
      },
      "execution_count": null,
      "outputs": [
        {
          "output_type": "execute_result",
          "data": {
            "text/plain": [
              "0"
            ]
          },
          "metadata": {},
          "execution_count": 14
        }
      ]
    },
    {
      "cell_type": "code",
      "source": [
        "judul.find('beauty')\n",
        "#karena di judul awal dia huruf besar, bukan huruf kecil gitu"
      ],
      "metadata": {
        "colab": {
          "base_uri": "https://localhost:8080/"
        },
        "id": "ZgZpLDQIzdnA",
        "outputId": "9a014f36-c42f-423d-a5f9-f1c2c8e6cbdb"
      },
      "execution_count": null,
      "outputs": [
        {
          "output_type": "execute_result",
          "data": {
            "text/plain": [
              "-1"
            ]
          },
          "metadata": {},
          "execution_count": 15
        }
      ]
    },
    {
      "cell_type": "code",
      "source": [
        "judul.find('BEAUTY')\n",
        "#ini juga karena diaa di judul awal ga semua hurufnya besar"
      ],
      "metadata": {
        "colab": {
          "base_uri": "https://localhost:8080/"
        },
        "id": "hKXCecUvzlbe",
        "outputId": "3f786db3-e4fc-4dd9-c5d9-0c6530ba14ee"
      },
      "execution_count": null,
      "outputs": [
        {
          "output_type": "execute_result",
          "data": {
            "text/plain": [
              "-1"
            ]
          },
          "metadata": {},
          "execution_count": 19
        }
      ]
    },
    {
      "cell_type": "code",
      "source": [
        "judul.replace(\"Beauty\", \"Belle\")\n",
        "#ini untuk mengganti judulnya gitu"
      ],
      "metadata": {
        "colab": {
          "base_uri": "https://localhost:8080/",
          "height": 36
        },
        "id": "dQps_q_TzpcT",
        "outputId": "b56a239c-949d-4d08-d9d8-58c1c74c0505"
      },
      "execution_count": null,
      "outputs": [
        {
          "output_type": "execute_result",
          "data": {
            "text/plain": [
              "'Belle and the Beast'"
            ],
            "application/vnd.google.colaboratory.intrinsic+json": {
              "type": "string"
            }
          },
          "metadata": {},
          "execution_count": 17
        }
      ]
    },
    {
      "cell_type": "code",
      "source": [
        "judul.replace(\"beauty\", \"Belle\")\n",
        "#ini dia beauty nya tidak terdefinisi karena di awal judulnya pake B besar\n",
        "#sehingga dia tetap dikeluarkan judul yang lama"
      ],
      "metadata": {
        "colab": {
          "base_uri": "https://localhost:8080/",
          "height": 36
        },
        "id": "Xc17mqhzz3FR",
        "outputId": "1e083491-cb74-4319-d675-0aef3938c849"
      },
      "execution_count": null,
      "outputs": [
        {
          "output_type": "execute_result",
          "data": {
            "text/plain": [
              "'Beauty and the Beast'"
            ],
            "application/vnd.google.colaboratory.intrinsic+json": {
              "type": "string"
            }
          },
          "metadata": {},
          "execution_count": 20
        }
      ]
    },
    {
      "cell_type": "code",
      "source": [
        "print('Beauty'in judul)\n",
        "#ini sesuai dengan judul yang udah didefinisikan sebelumnya"
      ],
      "metadata": {
        "colab": {
          "base_uri": "https://localhost:8080/"
        },
        "id": "we3Z8bYi0IXO",
        "outputId": "10ddacd7-91ac-4683-abc4-9e9cb872f0fa"
      },
      "execution_count": null,
      "outputs": [
        {
          "output_type": "stream",
          "name": "stdout",
          "text": [
            "True\n"
          ]
        }
      ]
    },
    {
      "cell_type": "code",
      "source": [
        "print('beauty'in judul)\n",
        "#ini sesuai dengan judul yang udah didefinisikan sebelumnya"
      ],
      "metadata": {
        "colab": {
          "base_uri": "https://localhost:8080/"
        },
        "id": "IPfa2O5I0Nr7",
        "outputId": "c15c9422-5bbf-4c2b-a4f8-65ca2bd123cf"
      },
      "execution_count": 25,
      "outputs": [
        {
          "output_type": "stream",
          "name": "stdout",
          "text": [
            "False\n"
          ]
        }
      ]
    },
    {
      "cell_type": "code",
      "source": [
        "#Operasi Matematika\n",
        "print (6*9)\n",
        "#kalau disini tanda kali diganti jadi*"
      ],
      "metadata": {
        "colab": {
          "base_uri": "https://localhost:8080/"
        },
        "id": "JsJmm9a0Eznf",
        "outputId": "baa96369-6d11-40e8-c72b-c3412a97fa96"
      },
      "execution_count": 32,
      "outputs": [
        {
          "output_type": "stream",
          "name": "stdout",
          "text": [
            "54\n"
          ]
        }
      ]
    },
    {
      "cell_type": "code",
      "source": [
        "#contoh modulo\n",
        "print (6%2)\n",
        "#modulo itu artinya sisa bagi dari kedua bilangan itu"
      ],
      "metadata": {
        "colab": {
          "base_uri": "https://localhost:8080/"
        },
        "id": "L8qzPqDrFny7",
        "outputId": "d67b31ed-2fe3-4f75-c864-7fc026aa5a9a"
      },
      "execution_count": 34,
      "outputs": [
        {
          "output_type": "stream",
          "name": "stdout",
          "text": [
            "0\n"
          ]
        }
      ]
    },
    {
      "cell_type": "code",
      "source": [
        "print (3**15)\n",
        "#ini digunakan untuk pemangkatan"
      ],
      "metadata": {
        "colab": {
          "base_uri": "https://localhost:8080/"
        },
        "id": "IGa96mJQGtcl",
        "outputId": "9e7ead31-e671-4be1-dba3-9f1d0f60d66a"
      },
      "execution_count": 35,
      "outputs": [
        {
          "output_type": "stream",
          "name": "stdout",
          "text": [
            "14348907\n"
          ]
        }
      ]
    },
    {
      "cell_type": "code",
      "source": [
        "print (9//2)\n",
        "#ini digunakan untuk pembulatan pembagian bilangan"
      ],
      "metadata": {
        "colab": {
          "base_uri": "https://localhost:8080/"
        },
        "id": "EcBNNy_rHI1C",
        "outputId": "fd80de64-2ca1-4057-8474-19e4e1a070d3"
      },
      "execution_count": 36,
      "outputs": [
        {
          "output_type": "stream",
          "name": "stdout",
          "text": [
            "4\n"
          ]
        }
      ]
    },
    {
      "cell_type": "code",
      "source": [
        "x+=3\n",
        "print (x)\n",
        "#ini artinya x=x+3\n",
        "#jadi nilai x yang memenuhi itu 0 karena 3=0+3 gitu"
      ],
      "metadata": {
        "colab": {
          "base_uri": "https://localhost:8080/"
        },
        "id": "h6QFhj-HHZwR",
        "outputId": "a014af3a-b627-47fd-bc51-2cd0667a316f"
      },
      "execution_count": 40,
      "outputs": [
        {
          "output_type": "stream",
          "name": "stdout",
          "text": [
            "0\n"
          ]
        }
      ]
    },
    {
      "cell_type": "code",
      "source": [
        "#perbandingan\n",
        "x = 5<8\n",
        "print (x)\n",
        "#ini tipe data bolean buat nentuin benar atau salah"
      ],
      "metadata": {
        "colab": {
          "base_uri": "https://localhost:8080/"
        },
        "id": "I0GNWDOf0P6-",
        "outputId": "1527d4c8-e06a-4646-d909-b91c25116383"
      },
      "execution_count": null,
      "outputs": [
        {
          "output_type": "stream",
          "name": "stdout",
          "text": [
            "True\n"
          ]
        }
      ]
    },
    {
      "cell_type": "code",
      "source": [
        "x =8<5 \n",
        "print (x)\n",
        "#karena 8 seharusnya lebih besar dari 5"
      ],
      "metadata": {
        "colab": {
          "base_uri": "https://localhost:8080/"
        },
        "id": "OwK2budb0Zwp",
        "outputId": "e31c99be-857c-4202-c6f9-0db84fdd6f29"
      },
      "execution_count": null,
      "outputs": [
        {
          "output_type": "stream",
          "name": "stdout",
          "text": [
            "False\n"
          ]
        }
      ]
    },
    {
      "cell_type": "code",
      "source": [
        "X = 4 >= 3\n",
        "print (X)\n",
        "#ini benar karena X nya itu 4 dimana 4 itu lebih dari sama dgn 3"
      ],
      "metadata": {
        "id": "2Hor96HI0eLg",
        "colab": {
          "base_uri": "https://localhost:8080/"
        },
        "outputId": "4bc81473-8789-4193-dfae-4a501923bdbc"
      },
      "execution_count": 44,
      "outputs": [
        {
          "output_type": "stream",
          "name": "stdout",
          "text": [
            "True\n"
          ]
        }
      ]
    },
    {
      "cell_type": "code",
      "source": [
        "type (X)\n",
        "#ini untuk mencari tahu tipe data dari si X itu apa"
      ],
      "metadata": {
        "colab": {
          "base_uri": "https://localhost:8080/"
        },
        "id": "0QYrGxJ0QbEj",
        "outputId": "eef98856-9ac4-454b-a3ac-2d0237b3aae5"
      },
      "execution_count": 47,
      "outputs": [
        {
          "output_type": "execute_result",
          "data": {
            "text/plain": [
              "bool"
            ]
          },
          "metadata": {},
          "execution_count": 47
        }
      ]
    },
    {
      "cell_type": "code",
      "source": [
        "xx = 10>5\n",
        "print (-xx)\n",
        "#true itu jadi -1\n",
        "#kalau false itu jadi -2"
      ],
      "metadata": {
        "colab": {
          "base_uri": "https://localhost:8080/"
        },
        "id": "1k2ocCccQhh-",
        "outputId": "07c59271-fa2b-44e8-e443-a04962de572e"
      },
      "execution_count": 48,
      "outputs": [
        {
          "output_type": "stream",
          "name": "stdout",
          "text": [
            "-1\n"
          ]
        }
      ]
    },
    {
      "cell_type": "code",
      "source": [
        "a = 9==9 \n",
        "print (-a)\n",
        "#kalau pakenya -a nanti dia keluarnya -1 atau -2\n",
        "#yang mana untuk -1 itu true -2 itu false seperti penjelasan sebelumnya"
      ],
      "metadata": {
        "colab": {
          "base_uri": "https://localhost:8080/"
        },
        "id": "d71_a23rRG1e",
        "outputId": "194e36a7-e104-42e9-ae5e-74651a1b737a"
      },
      "execution_count": 49,
      "outputs": [
        {
          "output_type": "stream",
          "name": "stdout",
          "text": [
            "-1\n"
          ]
        }
      ]
    },
    {
      "cell_type": "code",
      "source": [
        "xx = 10<7\n",
        "print (xx)\n",
        "#sama seperti penjelasan sebelumnya, ini merupakan tipe data bool yaitu benar\n",
        "#atau salah"
      ],
      "metadata": {
        "colab": {
          "base_uri": "https://localhost:8080/"
        },
        "id": "RUWD6tdgRPzQ",
        "outputId": "4da7676d-df01-40f1-c161-ad76a2902e1e"
      },
      "execution_count": 50,
      "outputs": [
        {
          "output_type": "stream",
          "name": "stdout",
          "text": [
            "False\n"
          ]
        }
      ]
    },
    {
      "cell_type": "code",
      "source": [
        "a = 10<7\n",
        "print (~a)\n",
        "#~artinya negasi gitu jadi hasil yang keluar merupakan kebalikan sari  hasil\n",
        "#yang sebenarnya"
      ],
      "metadata": {
        "colab": {
          "base_uri": "https://localhost:8080/"
        },
        "id": "cONxU5ogRaak",
        "outputId": "7a0741e5-d5f6-4780-e305-7b6cb8d8aec2"
      },
      "execution_count": 56,
      "outputs": [
        {
          "output_type": "stream",
          "name": "stdout",
          "text": [
            "-1\n"
          ]
        }
      ]
    },
    {
      "cell_type": "code",
      "source": [
        "#operator logika\n",
        "bunga_mawar = 10\n",
        "bunga_melati = 15\n",
        "print (bunga_mawar > 8 and bunga_melati < 10)\n",
        "#ini dia kaya di materi pmm yang kalau true dan true maka dia true"
      ],
      "metadata": {
        "colab": {
          "base_uri": "https://localhost:8080/"
        },
        "id": "TPZQQNIYRqGG",
        "outputId": "5786c9af-f49e-4d91-ac81-146e86d23b96"
      },
      "execution_count": 60,
      "outputs": [
        {
          "output_type": "stream",
          "name": "stdout",
          "text": [
            "False\n"
          ]
        }
      ]
    },
    {
      "cell_type": "code",
      "source": [
        "print(bunga_mawar < 8 or bunga_melati >10)\n",
        "#ini juga di materi pmm\n",
        "#jika benar atau salah maka benar dst nya"
      ],
      "metadata": {
        "colab": {
          "base_uri": "https://localhost:8080/"
        },
        "id": "qwxWV1O0SPoR",
        "outputId": "2c177ac4-788e-4a4f-fe82-52ac69ce5c76"
      },
      "execution_count": 61,
      "outputs": [
        {
          "output_type": "stream",
          "name": "stdout",
          "text": [
            "True\n"
          ]
        }
      ]
    },
    {
      "cell_type": "code",
      "source": [
        "print(bunga_mawar >8 or bunga_melati<20)\n",
        "#ini true or true maka dia true"
      ],
      "metadata": {
        "colab": {
          "base_uri": "https://localhost:8080/"
        },
        "id": "S1FYcPIrTTsO",
        "outputId": "39047149-e1a8-40de-a9f5-1caadfab7e43"
      },
      "execution_count": 62,
      "outputs": [
        {
          "output_type": "stream",
          "name": "stdout",
          "text": [
            "True\n"
          ]
        }
      ]
    },
    {
      "cell_type": "code",
      "source": [
        "#Operator if \n",
        "#untuk dapat menjalankan operator if, maka nilai variabelnya harus true dulu\n",
        "#kalau nilai variabelnya false maka operator if tidak bisa dijalankan\n",
        "\n",
        "nilai_penjurian = float (input (\"Nilai total anda adalah :\"))\n",
        "if nilai_penjurian >= 85 :\n",
        "  print (\"Selamat anda dinyatakan lolos seleksi kerja!\")\n",
        "  print (\"Predikat nilai anda adalah A\")\n",
        "if nilai_penjurian <80 and nilai_penjurian >=75 :\n",
        "  print (\"Anda berhak lanjut ke tahap wawancara\")\n",
        "  print (\"Predikat nilai anda adalah B+\")\n",
        "if nilai_penjurian <75 and nilai_penjurian >= 70 :\n",
        "  print (\"Anda perlu melampirkan portofolio untuk membantu kelulusan anda\")\n",
        "  print (\"Predikat nilai anda adalah B\")\n",
        "if nilai_penjurian <70 :\n",
        "  print (\"Maaf, anda dinyatakan tidak lolos seleksi\")\n",
        "  print (\"Predikat nilai anda adalah C\")"
      ],
      "metadata": {
        "colab": {
          "base_uri": "https://localhost:8080/"
        },
        "id": "eP3xJH2MTZtV",
        "outputId": "ebda1d6d-bd2a-42d0-bb02-65cef6da68b6"
      },
      "execution_count": 72,
      "outputs": [
        {
          "output_type": "stream",
          "name": "stdout",
          "text": [
            "Nilai total anda adalah :95\n",
            "Selamat anda dinyatakan lolos seleksi kerja!\n",
            "Predikat nilai anda adalah A\n"
          ]
        }
      ]
    },
    {
      "cell_type": "code",
      "source": [
        "#contoh lain tentang operator if \n",
        "penghasilan = int(input(\"Masukkan jumlah pendapatan Anda per bulan :\"))\n",
        "a = str(input (\"Status dalam pekerjaan :\"))\n",
        "b = str(input (\"Aset yang dimiliki :\"))\n",
        "\n",
        "if penghasilan >= 5000000 :\n",
        "  print (\"Pendapatan Anda termasuk di atas UMR\")\n",
        "  if a : \n",
        "    print(\"Wajib membayar pajak penghasilan\")\n",
        "  else :\n",
        "    print(\"Belum memenuhi ketentuan wajib pajak\")\n",
        "\n",
        "  if b == \"Motor\" or b == \"Mobil\" or b == \"Rumah\" :\n",
        "    print(\"Wajib bayar pajak aset\")\n",
        "  else :\n",
        "    print(\"Tidak wajib bayar pajak aset\")\n",
        "\n",
        "else :\n",
        "  print(\"Pendapatan yang diperoleh masih di bawah UMR yang ditetapkan pemerintah\")\n",
        "\n",
        "#ini dia keluar tidak wajib bayar pajak aset karena tulisan rumahnya tidak sesuai \n",
        "#dengan yang sudah ditetapkan/dituliskan seebelumnya"
      ],
      "metadata": {
        "colab": {
          "base_uri": "https://localhost:8080/"
        },
        "id": "zvytKoZRVGIa",
        "outputId": "64bdc8a2-4acf-4180-93be-9e59d1958f8c"
      },
      "execution_count": 76,
      "outputs": [
        {
          "output_type": "stream",
          "name": "stdout",
          "text": [
            "Masukkan jumlah pendapatan Anda per bulan :5000000\n",
            "Status :pegawai tetap\n",
            "Aset yang dimiliki :rumah\n",
            "Pendapatan Anda termasuk di atas UMR\n",
            "Wajib membayar pajak penghasilan\n",
            "Tidak wajib bayar pajak aset\n"
          ]
        }
      ]
    },
    {
      "cell_type": "code",
      "source": [
        "penghasilan = int(input(\"Masukkan jumlah pendapatan Anda per bulan :\"))\n",
        "a = str(input (\"Status dalam pekerjaan :\"))\n",
        "b = str(input (\"Aset yang dimiliki :\"))\n",
        "\n",
        "if penghasilan >= 5000000 :\n",
        "  print (\"Pendapatan Anda termasuk di atas UMR\")\n",
        "  if a : \n",
        "    print(\"Wajib membayar pajak penghasilan\")\n",
        "  else :\n",
        "    print(\"Belum memenuhi ketentuan wajib pajak\")\n",
        "\n",
        "  if b == \"Motor\" or b == \"Mobil\" or b == \"Rumah\" :\n",
        "    print(\"Wajib bayar pajak aset\")\n",
        "  else :\n",
        "    print(\"Tidak wajib bayar pajak aset\")\n",
        "\n",
        "else :\n",
        "  print(\"Pendapatan yang diperoleh masih di bawah UMR yang ditetapkan pemerintah\")\n",
        "\n",
        "#di sini baru wajib pajak aset karena pas input atau masukin datanya untuk \n",
        "#rumah itu dia pake huruf besar sehingga sesuai dengan yang telah didefinisikan"
      ],
      "metadata": {
        "colab": {
          "base_uri": "https://localhost:8080/"
        },
        "id": "_g4rZWylacq7",
        "outputId": "202fc113-761b-41e0-f4d5-1f3888f739fa"
      },
      "execution_count": 77,
      "outputs": [
        {
          "output_type": "stream",
          "name": "stdout",
          "text": [
            "Masukkan jumlah pendapatan Anda per bulan :5000000\n",
            "Status dalam pekerjaan :karyawan tetap\n",
            "Aset yang dimiliki :Rumah\n",
            "Pendapatan Anda termasuk di atas UMR\n",
            "Wajib membayar pajak penghasilan\n",
            "Wajib bayar pajak aset\n"
          ]
        }
      ]
    },
    {
      "cell_type": "code",
      "source": [
        "penghasilan = int(input(\"Masukkan jumlah pendapatan Anda per bulan :\"))\n",
        "a = str(input (\"Status dalam pekerjaan :\"))\n",
        "b = str(input (\"Aset yang dimiliki :\"))\n",
        "\n",
        "if penghasilan >= 5000000 :\n",
        "  print (\"Pendapatan Anda termasuk di atas UMR\")\n",
        "  if a : \n",
        "    print(\"Wajib membayar pajak penghasilan\")\n",
        "  else :\n",
        "    print(\"Belum memenuhi ketentuan wajib pajak\")\n",
        "\n",
        "  if b == \"Motor\" or b == \"Mobil\" or b == \"Rumah\" :\n",
        "    print(\"Wajib bayar pajak aset\")\n",
        "  else :\n",
        "    print(\"Tidak wajib bayar pajak aset\")\n",
        "\n",
        "else :\n",
        "  print(\"Pendapatan yang diperoleh masih di bawah UMR yang ditetapkan pemerintah\")\n",
        "\n",
        "#di kasus ini biarpun dia punya motor, tetapi dari awal pendapatan dia itu\n",
        "#kurang dari 5 juta makanya operator if ini tidak bisa dijalankan selanjutnya"
      ],
      "metadata": {
        "colab": {
          "base_uri": "https://localhost:8080/"
        },
        "id": "3B32pOIHb_w0",
        "outputId": "c608d7e1-63ee-4791-f18f-61b4871162ca"
      },
      "execution_count": 78,
      "outputs": [
        {
          "output_type": "stream",
          "name": "stdout",
          "text": [
            "Masukkan jumlah pendapatan Anda per bulan :2000000\n",
            "Status dalam pekerjaan :Karyawan kontrak\n",
            "Aset yang dimiliki :Motor\n",
            "Pendapatan yang diperoleh masih di bawah UMR yang ditetapkan pemerintah\n"
          ]
        }
      ]
    },
    {
      "cell_type": "code",
      "source": [],
      "metadata": {
        "id": "MXUvatymcZPn"
      },
      "execution_count": null,
      "outputs": []
    }
  ]
}