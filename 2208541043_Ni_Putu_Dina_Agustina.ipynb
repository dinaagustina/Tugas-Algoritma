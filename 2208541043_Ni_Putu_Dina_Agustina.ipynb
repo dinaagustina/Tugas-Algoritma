{
  "nbformat": 4,
  "nbformat_minor": 0,
  "metadata": {
    "colab": {
      "provenance": []
    },
    "kernelspec": {
      "name": "python3",
      "display_name": "Python 3"
    },
    "language_info": {
      "name": "python"
    }
  },
  "cells": [
    {
      "cell_type": "code",
      "execution_count": null,
      "metadata": {
        "colab": {
          "base_uri": "https://localhost:8080/"
        },
        "id": "7W-EVExbiDxl",
        "outputId": "0673f779-7d13-43a2-8e06-e4261502f3de"
      },
      "outputs": [
        {
          "output_type": "stream",
          "name": "stdout",
          "text": [
            "Saya menggunakan Phyton\n"
          ]
        }
      ],
      "source": [
        "print ('Saya menggunakan Phyton')\n",
        "#ini digunakan untuk menampilkan / menghasilkan output yang diinginkan"
      ]
    },
    {
      "cell_type": "code",
      "source": [
        "print ('Saya menggunakan Phyton\")\n",
        "#Error karena penggunaan tanda kutip yang tidak konsisten. kita harus memakai tanda kutip yang sama yaitu antara petik satu atau petik dua"
      ],
      "metadata": {
        "colab": {
          "base_uri": "https://localhost:8080/",
          "height": 134
        },
        "id": "2eHBZhblpTO3",
        "outputId": "9570639f-ddb2-4285-f306-4ea34378fd36"
      },
      "execution_count": null,
      "outputs": [
        {
          "output_type": "error",
          "ename": "SyntaxError",
          "evalue": "ignored",
          "traceback": [
            "\u001b[0;36m  File \u001b[0;32m\"<ipython-input-3-a24721ce366c>\"\u001b[0;36m, line \u001b[0;32m1\u001b[0m\n\u001b[0;31m    print ('Saya menggunakan Phyton\")\u001b[0m\n\u001b[0m                                     ^\u001b[0m\n\u001b[0;31mSyntaxError\u001b[0m\u001b[0;31m:\u001b[0m EOL while scanning string literal\n"
          ]
        }
      ]
    },
    {
      "cell_type": "code",
      "source": [
        "Nama = Ni Putu Dina Agustina\n",
        "#terjadi error karena outputnya tidak ada / output yang diinginkan tidak jelas"
      ],
      "metadata": {
        "colab": {
          "base_uri": "https://localhost:8080/",
          "height": 134
        },
        "id": "m-l_EiNvpyx2",
        "outputId": "778fa88a-cc63-4ccb-9864-ce1f7e9a045e"
      },
      "execution_count": null,
      "outputs": [
        {
          "output_type": "error",
          "ename": "SyntaxError",
          "evalue": "ignored",
          "traceback": [
            "\u001b[0;36m  File \u001b[0;32m\"<ipython-input-4-3c3253013923>\"\u001b[0;36m, line \u001b[0;32m1\u001b[0m\n\u001b[0;31m    Nama = Ni Putu Dina Agustina\u001b[0m\n\u001b[0m              ^\u001b[0m\n\u001b[0;31mSyntaxError\u001b[0m\u001b[0;31m:\u001b[0m invalid syntax\n"
          ]
        }
      ]
    },
    {
      "cell_type": "code",
      "source": [
        "NIM = 2208541043\n",
        "NIM \n",
        "#output NIM nya dapat muncul karena telah didefinisikan sebelumnya sehingga dapat dikeluarkan sesuai dengan NIM yang sudah didefinisikan \n",
        "#NIM nya tidak perlu diisikan tanda petik lagi karena sudah didefinisikan sebelumnya"
      ],
      "metadata": {
        "colab": {
          "base_uri": "https://localhost:8080/"
        },
        "id": "peMeyyRHqLD9",
        "outputId": "66ef503b-1738-4318-b4c2-304ab5c59d63"
      },
      "execution_count": null,
      "outputs": [
        {
          "output_type": "execute_result",
          "data": {
            "text/plain": [
              "2208541043"
            ]
          },
          "metadata": {},
          "execution_count": 6
        }
      ]
    },
    {
      "cell_type": "code",
      "source": [
        "NIM = 2208541043\n",
        "\"NIM\"\n",
        "#output yang dihasilkan tentu berbeda dengan output pada kode NIM sebelumnya\n",
        "#dengan menggunakan petik maka itu yang akan dihasilkan sebagai output/luaran "
      ],
      "metadata": {
        "colab": {
          "base_uri": "https://localhost:8080/",
          "height": 36
        },
        "id": "M8EwIFNtqYIS",
        "outputId": "dab8eb92-64aa-4259-9c7f-51a260f63e48"
      },
      "execution_count": null,
      "outputs": [
        {
          "output_type": "execute_result",
          "data": {
            "text/plain": [
              "'NIM'"
            ],
            "application/vnd.google.colaboratory.intrinsic+json": {
              "type": "string"
            }
          },
          "metadata": {},
          "execution_count": 7
        }
      ]
    },
    {
      "cell_type": "code",
      "source": [
        "\"hallooo\"\n",
        "#ini contoh penggunaan petik, dia akan dikeluarkan sebagai luaran / output"
      ],
      "metadata": {
        "colab": {
          "base_uri": "https://localhost:8080/",
          "height": 36
        },
        "id": "LjG79RTprJSu",
        "outputId": "4c6b7fad-e1f6-4cfd-a885-467beb627ccf"
      },
      "execution_count": null,
      "outputs": [
        {
          "output_type": "execute_result",
          "data": {
            "text/plain": [
              "'hallooo'"
            ],
            "application/vnd.google.colaboratory.intrinsic+json": {
              "type": "string"
            }
          },
          "metadata": {},
          "execution_count": 8
        }
      ]
    },
    {
      "cell_type": "code",
      "source": [
        "print ('Halllooo')\n",
        "#ini akan sama dengan hallo yang menggunakan petik tanpa ada print dan juga tanda kurung"
      ],
      "metadata": {
        "colab": {
          "base_uri": "https://localhost:8080/"
        },
        "id": "Y8OPUS1MreYe",
        "outputId": "00d54ee3-5f29-4613-fc99-3faa7d911d9d"
      },
      "execution_count": null,
      "outputs": [
        {
          "output_type": "stream",
          "name": "stdout",
          "text": [
            "Halllooo\n"
          ]
        }
      ]
    },
    {
      "cell_type": "code",
      "source": [
        "print (\"I Love you \\n but you don't \")\n",
        "#\\n digunakan untuk membuat enter atau baris baru pada kode\n",
        "#pada contoh di atas tanda petiknya dapat jelas dibedakan sehingga outputnya bisa sesuai harapan"
      ],
      "metadata": {
        "colab": {
          "base_uri": "https://localhost:8080/"
        },
        "id": "pO2_Jg5Prq27",
        "outputId": "62d9cf43-8d36-4cc1-d9f9-c2930a49a7e6"
      },
      "execution_count": null,
      "outputs": [
        {
          "output_type": "stream",
          "name": "stdout",
          "text": [
            "I Love you \n",
            " but you don't \n"
          ]
        }
      ]
    },
    {
      "cell_type": "code",
      "source": [
        "print ('i love you \\n but you don't ')\n",
        "#ini error dikarenakan tanda petiknya sama sehingga sulit dibedakan oleh komputer tentang output/luaran apa yang kita inginkan"
      ],
      "metadata": {
        "colab": {
          "base_uri": "https://localhost:8080/",
          "height": 134
        },
        "id": "1hVH-K4_r8W-",
        "outputId": "8b95504a-d06b-4eee-f5a7-a1ed34345eff"
      },
      "execution_count": null,
      "outputs": [
        {
          "output_type": "error",
          "ename": "SyntaxError",
          "evalue": "ignored",
          "traceback": [
            "\u001b[0;36m  File \u001b[0;32m\"<ipython-input-12-a4561796a8b8>\"\u001b[0;36m, line \u001b[0;32m1\u001b[0m\n\u001b[0;31m    print ('i love you \\n but you don't ')\u001b[0m\n\u001b[0m                                      ^\u001b[0m\n\u001b[0;31mSyntaxError\u001b[0m\u001b[0;31m:\u001b[0m invalid syntax\n"
          ]
        }
      ]
    },
    {
      "cell_type": "code",
      "source": [
        "nama_depan = 'Ardi'\n",
        "nama_tengah = ' '\n",
        "nama_belakang = 'Wedyantara'\n",
        "print (nama_depan + nama_tengah + nama_belakang)\n",
        "#nama_tengah merupakan parameter sehingga dapat digunakan untuk membedakan antara parameter satu dengan lainnya"
      ],
      "metadata": {
        "colab": {
          "base_uri": "https://localhost:8080/"
        },
        "id": "UqR9VzcKsYI7",
        "outputId": "b07a675d-f76f-48e5-c66e-6a42a2bf60db"
      },
      "execution_count": null,
      "outputs": [
        {
          "output_type": "stream",
          "name": "stdout",
          "text": [
            "Ardi Wedyantara\n"
          ]
        }
      ]
    },
    {
      "cell_type": "code",
      "source": [
        "nama depan = 'Ardi'\n",
        "nama tengah = ' '\n",
        "nama belakang = 'Wedyantara'\n",
        "print (nama depan + nama tengah + nama belakang)\n",
        "#error karena tidak didefinisikan dengan benar sehingga tidak dapat terbaca oleh sistem"
      ],
      "metadata": {
        "colab": {
          "base_uri": "https://localhost:8080/",
          "height": 134
        },
        "id": "DPyNuqj5sxJj",
        "outputId": "7c4d3ad4-de1d-43fd-b9bb-c27d45f7a764"
      },
      "execution_count": null,
      "outputs": [
        {
          "output_type": "error",
          "ename": "SyntaxError",
          "evalue": "ignored",
          "traceback": [
            "\u001b[0;36m  File \u001b[0;32m\"<ipython-input-16-0a809d535f98>\"\u001b[0;36m, line \u001b[0;32m1\u001b[0m\n\u001b[0;31m    nama depan = 'Ardi'\u001b[0m\n\u001b[0m         ^\u001b[0m\n\u001b[0;31mSyntaxError\u001b[0m\u001b[0;31m:\u001b[0m invalid syntax\n"
          ]
        }
      ]
    },
    {
      "cell_type": "code",
      "source": [
        "Nama Depan = \"Ardi\"\n",
        "Print (\"Nama Depan\")\n",
        "#ini error karena untuk menampilkan Nama Depan seharusnya tidak usah diisikan petik karena dia sebelumnya sudah didefinisikan\n",
        "#sehingga sistemnya bingung mau menghasilkan Nama Depan atau Ardi sebagai output/luarannya"
      ],
      "metadata": {
        "colab": {
          "base_uri": "https://localhost:8080/",
          "height": 134
        },
        "id": "vopSaum2tJm5",
        "outputId": "d5d86501-1a92-42ff-b1cb-ed5d90647048"
      },
      "execution_count": null,
      "outputs": [
        {
          "output_type": "error",
          "ename": "SyntaxError",
          "evalue": "ignored",
          "traceback": [
            "\u001b[0;36m  File \u001b[0;32m\"<ipython-input-20-3a4e41d1a3f0>\"\u001b[0;36m, line \u001b[0;32m1\u001b[0m\n\u001b[0;31m    Nama Depan = \"Ardi\"\u001b[0m\n\u001b[0m         ^\u001b[0m\n\u001b[0;31mSyntaxError\u001b[0m\u001b[0;31m:\u001b[0m invalid syntax\n"
          ]
        }
      ]
    },
    {
      "cell_type": "code",
      "source": [
        "Nama = \"Ardi\"\n",
        "Nama \n",
        "#tidak perlu diisikan petik lagi karena dia sudah terdefinisikan sebelumnya"
      ],
      "metadata": {
        "colab": {
          "base_uri": "https://localhost:8080/",
          "height": 36
        },
        "id": "PH5YgdHeuMG3",
        "outputId": "4903770a-832e-46fe-f112-42753711e70b"
      },
      "execution_count": null,
      "outputs": [
        {
          "output_type": "execute_result",
          "data": {
            "text/plain": [
              "'Ardi'"
            ],
            "application/vnd.google.colaboratory.intrinsic+json": {
              "type": "string"
            }
          },
          "metadata": {},
          "execution_count": 24
        }
      ]
    },
    {
      "cell_type": "code",
      "source": [
        "Nama = \"Ardi\\n Wira\\n Denar\\n Aldo\"\n",
        "Nama \n",
        "#outputnya jadi gini karena namanya sudah didefinisikan seperti ini jadi dia akan dikeluarkan seperti ini juga\n",
        "#supaya outputnya jadi enter atau baris baru itu bisa pake print bukan nama"
      ],
      "metadata": {
        "colab": {
          "base_uri": "https://localhost:8080/",
          "height": 36
        },
        "id": "BZ2vG2v_u5gg",
        "outputId": "6c71d978-64ba-474d-d944-0720a982de50"
      },
      "execution_count": null,
      "outputs": [
        {
          "output_type": "execute_result",
          "data": {
            "text/plain": [
              "'Ardi\\n Wira\\n Denar\\n Aldo'"
            ],
            "application/vnd.google.colaboratory.intrinsic+json": {
              "type": "string"
            }
          },
          "metadata": {},
          "execution_count": 1
        }
      ]
    },
    {
      "cell_type": "code",
      "source": [
        "print (\"Ardi\\nWira\\nDenar\\nAldo \")"
      ],
      "metadata": {
        "colab": {
          "base_uri": "https://localhost:8080/"
        },
        "id": "bkLiC_8QvMhA",
        "outputId": "eaa5bd8c-ba01-4ce3-dce6-a1e079b08ab3"
      },
      "execution_count": null,
      "outputs": [
        {
          "output_type": "stream",
          "name": "stdout",
          "text": [
            "Ardi\n",
            "Wira\n",
            "Denar\n",
            "Aldo \n"
          ]
        }
      ]
    },
    {
      "cell_type": "code",
      "source": [
        "Nama = input('Input Nama Anda :')\n",
        "print(\"Selamat Pagi \"+nama)\n",
        "#ini error karena nama yang didefinisikan menggunakan huruf besar sementara yang dipanggil menggunakan huruf kecil \n",
        "#sehingga tidak dapat menampilkan nama yang diinginkan"
      ],
      "metadata": {
        "colab": {
          "base_uri": "https://localhost:8080/",
          "height": 207
        },
        "id": "tkP_VTTlw7yb",
        "outputId": "c1fd885b-9297-42be-fec8-430a19ea61f6"
      },
      "execution_count": null,
      "outputs": [
        {
          "name": "stdout",
          "output_type": "stream",
          "text": [
            "Input Nama Anda :Budi\n"
          ]
        },
        {
          "output_type": "error",
          "ename": "NameError",
          "evalue": "ignored",
          "traceback": [
            "\u001b[0;31m---------------------------------------------------------------------------\u001b[0m",
            "\u001b[0;31mNameError\u001b[0m                                 Traceback (most recent call last)",
            "\u001b[0;32m<ipython-input-41-937086086380>\u001b[0m in \u001b[0;36m<module>\u001b[0;34m\u001b[0m\n\u001b[1;32m      1\u001b[0m \u001b[0mNama\u001b[0m \u001b[0;34m=\u001b[0m \u001b[0minput\u001b[0m\u001b[0;34m(\u001b[0m\u001b[0;34m'Input Nama Anda :'\u001b[0m\u001b[0;34m)\u001b[0m\u001b[0;34m\u001b[0m\u001b[0;34m\u001b[0m\u001b[0m\n\u001b[0;32m----> 2\u001b[0;31m \u001b[0mprint\u001b[0m\u001b[0;34m(\u001b[0m\u001b[0;34m\"Selamat Pagi \"\u001b[0m\u001b[0;34m+\u001b[0m\u001b[0mnama\u001b[0m\u001b[0;34m)\u001b[0m\u001b[0;34m\u001b[0m\u001b[0;34m\u001b[0m\u001b[0m\n\u001b[0m",
            "\u001b[0;31mNameError\u001b[0m: name 'nama' is not defined"
          ]
        }
      ]
    },
    {
      "cell_type": "code",
      "source": [
        "Nama = input('Input Nama Anda :')\n",
        "print(\"Selamat Pagi \"+Nama)\n",
        "#ini untuk membuat spasi dalam satu kalimat bisa dibuat dengan menambahkan spasi sebelum tanda petik terakhir\n",
        "#Nama di sini tidak diisikan petik karena dia sudah didefinisikan sebelumnya"
      ],
      "metadata": {
        "colab": {
          "base_uri": "https://localhost:8080/"
        },
        "id": "3-hNX-NdxO3h",
        "outputId": "1819fd5c-4f19-4abc-b11b-f03bb0db5bcd"
      },
      "execution_count": null,
      "outputs": [
        {
          "output_type": "stream",
          "name": "stdout",
          "text": [
            "Input Nama Anda :Budi\n",
            "Selamat Pagi Budi\n"
          ]
        }
      ]
    },
    {
      "cell_type": "code",
      "source": [
        "Nama = input('Input Nama Anda :')\n",
        "print(\"Selamat Pagi\"+ \" \" +Nama)\n",
        "#ini juga caara lain untuk menambahkan spasi pada kalimat atau kode yang diinginkan"
      ],
      "metadata": {
        "colab": {
          "base_uri": "https://localhost:8080/"
        },
        "id": "IfFGfdmWxkOn",
        "outputId": "433aa98b-4747-4c3c-98f1-e82fada092bb"
      },
      "execution_count": null,
      "outputs": [
        {
          "output_type": "stream",
          "name": "stdout",
          "text": [
            "Input Nama Anda :Caca\n",
            "Selamat Pagi Caca\n"
          ]
        }
      ]
    },
    {
      "cell_type": "code",
      "source": [
        "Dompet = 100000\n",
        "Tabungan = 200000\n",
        "print str(Dompet*Tabungan)\n",
        "#ini error karena output yang diinginkan tidak jelas"
      ],
      "metadata": {
        "colab": {
          "base_uri": "https://localhost:8080/",
          "height": 134
        },
        "id": "Y9I7YmAHyLKp",
        "outputId": "02864fd3-567e-4bab-99b8-cc8869273c25"
      },
      "execution_count": null,
      "outputs": [
        {
          "output_type": "error",
          "ename": "SyntaxError",
          "evalue": "ignored",
          "traceback": [
            "\u001b[0;36m  File \u001b[0;32m\"<ipython-input-46-0b00df7196c0>\"\u001b[0;36m, line \u001b[0;32m3\u001b[0m\n\u001b[0;31m    print str(Dompet*Tabungan)\u001b[0m\n\u001b[0m          ^\u001b[0m\n\u001b[0;31mSyntaxError\u001b[0m\u001b[0;31m:\u001b[0m invalid syntax\n"
          ]
        }
      ]
    },
    {
      "cell_type": "code",
      "source": [
        "Dompet = 100000\n",
        "Tabungan = 200000\n",
        "print (Dompet+Tabungan)\n",
        "#ini gaperlu tanda petik karena sudah didefinisikan sebelumnya"
      ],
      "metadata": {
        "colab": {
          "base_uri": "https://localhost:8080/"
        },
        "id": "_htXAxhUzEnN",
        "outputId": "9aff84c0-cefc-4cd9-92e9-533e9c76e4b1"
      },
      "execution_count": null,
      "outputs": [
        {
          "output_type": "stream",
          "name": "stdout",
          "text": [
            "300000\n"
          ]
        }
      ]
    },
    {
      "cell_type": "code",
      "source": [
        "a= int(10)\n",
        "b= int(50)\n",
        "print (a*b)\n",
        "#tanda * digunakan untuk perkalian"
      ],
      "metadata": {
        "colab": {
          "base_uri": "https://localhost:8080/"
        },
        "id": "DvY__yyczRpJ",
        "outputId": "aa5bd160-5583-45e1-e041-d966d2b3dd80"
      },
      "execution_count": null,
      "outputs": [
        {
          "output_type": "stream",
          "name": "stdout",
          "text": [
            "500\n"
          ]
        }
      ]
    },
    {
      "cell_type": "code",
      "source": [
        "a = input (\"Input Nilai a :\")\n",
        "b = input ('Input Nilai b:')\n",
        "total = a*b\n",
        "#kode yang digunakan untuk outputnya masih salah"
      ],
      "metadata": {
        "colab": {
          "base_uri": "https://localhost:8080/",
          "height": 243
        },
        "id": "1aos54rCz5IG",
        "outputId": "ed6f329e-d3a9-4fac-fc19-a5def66d5930"
      },
      "execution_count": null,
      "outputs": [
        {
          "name": "stdout",
          "output_type": "stream",
          "text": [
            "Input Nilai a :10\n",
            "Input Nilai b:25\n"
          ]
        },
        {
          "output_type": "error",
          "ename": "TypeError",
          "evalue": "ignored",
          "traceback": [
            "\u001b[0;31m---------------------------------------------------------------------------\u001b[0m",
            "\u001b[0;31mTypeError\u001b[0m                                 Traceback (most recent call last)",
            "\u001b[0;32m<ipython-input-53-0b1780e688c8>\u001b[0m in \u001b[0;36m<module>\u001b[0;34m\u001b[0m\n\u001b[1;32m      1\u001b[0m \u001b[0ma\u001b[0m \u001b[0;34m=\u001b[0m \u001b[0minput\u001b[0m \u001b[0;34m(\u001b[0m\u001b[0;34m\"Input Nilai a :\"\u001b[0m\u001b[0;34m)\u001b[0m\u001b[0;34m\u001b[0m\u001b[0;34m\u001b[0m\u001b[0m\n\u001b[1;32m      2\u001b[0m \u001b[0mb\u001b[0m \u001b[0;34m=\u001b[0m \u001b[0minput\u001b[0m \u001b[0;34m(\u001b[0m\u001b[0;34m'Input Nilai b:'\u001b[0m\u001b[0;34m)\u001b[0m\u001b[0;34m\u001b[0m\u001b[0;34m\u001b[0m\u001b[0m\n\u001b[0;32m----> 3\u001b[0;31m \u001b[0mtotal\u001b[0m \u001b[0;34m=\u001b[0m \u001b[0ma\u001b[0m\u001b[0;34m*\u001b[0m\u001b[0mb\u001b[0m\u001b[0;34m\u001b[0m\u001b[0;34m\u001b[0m\u001b[0m\n\u001b[0m",
            "\u001b[0;31mTypeError\u001b[0m: can't multiply sequence by non-int of type 'str'"
          ]
        }
      ]
    },
    {
      "cell_type": "code",
      "source": [
        "a = input (\"Input Nilai a :\")\n",
        "b = input ('Input Nilai b:')\n",
        "total = (\"a*b\")\n",
        "#untuk totalnya ini tidak terbaca oleh sistem\n",
        "#kode untuk perkaliannya masih salah"
      ],
      "metadata": {
        "colab": {
          "base_uri": "https://localhost:8080/"
        },
        "id": "gNBsOlCV0YPA",
        "outputId": "8b134161-2de0-4c4b-d569-e99c9cd49c46"
      },
      "execution_count": 25,
      "outputs": [
        {
          "name": "stdout",
          "output_type": "stream",
          "text": [
            "Input Nilai a :10\n",
            "Input Nilai b:25\n"
          ]
        }
      ]
    },
    {
      "cell_type": "code",
      "source": [
        "a = input (\"Input Nilai a :\")\n",
        "b = input ('Input Nilai b:')\n",
        "total = int (a)*int(b)\n",
        "print (\"total :\" + str(total))\n",
        "#string itu untuk tipe data paling umum untuk menyimpan suatu kalimat"
      ],
      "metadata": {
        "colab": {
          "base_uri": "https://localhost:8080/"
        },
        "id": "sjcvHDTr0qjo",
        "outputId": "68d945de-ebb9-4d08-b90f-e15ce21043e3"
      },
      "execution_count": null,
      "outputs": [
        {
          "output_type": "stream",
          "name": "stdout",
          "text": [
            "Input Nilai a :2\n",
            "Input Nilai b:6\n",
            "total :12\n"
          ]
        }
      ]
    },
    {
      "cell_type": "code",
      "source": [
        "a = 10,5\n",
        "b = 3,5\n",
        "total = (a)+(b) \n",
        "print(\"total :\" +str(total))\n",
        "#untuk menjumlahkan data yang menggunakan bilangan desimal itu dapat menggunakan tipe data float"
      ],
      "metadata": {
        "colab": {
          "base_uri": "https://localhost:8080/"
        },
        "id": "ipREpOUo05RN",
        "outputId": "c16e6a7a-1731-4be6-bd59-9a56ab5820dc"
      },
      "execution_count": null,
      "outputs": [
        {
          "output_type": "stream",
          "name": "stdout",
          "text": [
            "total :(10, 5, 3, 5)\n"
          ]
        }
      ]
    },
    {
      "cell_type": "code",
      "source": [
        "a = float (input (\"nilai a : \"))\n",
        "b = float (input (\"nilai b : \"))\n",
        "total = a+b \n",
        "print(\"total :\"+ str(total))\n",
        "#contoh kode untuk bilangan desimal"
      ],
      "metadata": {
        "colab": {
          "base_uri": "https://localhost:8080/"
        },
        "id": "qUX0i2-x2F83",
        "outputId": "f689019b-f3fa-4569-c101-df38d6d1b9dc"
      },
      "execution_count": null,
      "outputs": [
        {
          "output_type": "stream",
          "name": "stdout",
          "text": [
            "nilai a : 1.10\n",
            "nilai b : 2.90\n",
            "total :4.0\n"
          ]
        }
      ]
    },
    {
      "cell_type": "code",
      "source": [
        "buku = int (input (\"jumlah buku :\"))\n",
        "pensil = int (input (\"jumlah pensil :\"))\n",
        "total = buku/pensil \n",
        "print (\"total :\" + int(total))\n",
        "#tanda/digunakan untuk operasi pembagian\n",
        "#untuk menghitung total ini digunakan tipe data str bukan int "
      ],
      "metadata": {
        "colab": {
          "base_uri": "https://localhost:8080/",
          "height": 261
        },
        "id": "PYmcNrl82fkH",
        "outputId": "c213be91-4daf-4e86-8260-d68dfda09338"
      },
      "execution_count": null,
      "outputs": [
        {
          "name": "stdout",
          "output_type": "stream",
          "text": [
            "jumlah buku :100\n",
            "jumlah pensil :50\n"
          ]
        },
        {
          "output_type": "error",
          "ename": "TypeError",
          "evalue": "ignored",
          "traceback": [
            "\u001b[0;31m---------------------------------------------------------------------------\u001b[0m",
            "\u001b[0;31mTypeError\u001b[0m                                 Traceback (most recent call last)",
            "\u001b[0;32m<ipython-input-84-5a6ee388e792>\u001b[0m in \u001b[0;36m<module>\u001b[0;34m\u001b[0m\n\u001b[1;32m      2\u001b[0m \u001b[0mpensil\u001b[0m \u001b[0;34m=\u001b[0m \u001b[0mint\u001b[0m \u001b[0;34m(\u001b[0m\u001b[0minput\u001b[0m \u001b[0;34m(\u001b[0m\u001b[0;34m\"jumlah pensil :\"\u001b[0m\u001b[0;34m)\u001b[0m\u001b[0;34m)\u001b[0m\u001b[0;34m\u001b[0m\u001b[0;34m\u001b[0m\u001b[0m\n\u001b[1;32m      3\u001b[0m \u001b[0mtotal\u001b[0m \u001b[0;34m=\u001b[0m \u001b[0mbuku\u001b[0m\u001b[0;34m/\u001b[0m\u001b[0mpensil\u001b[0m\u001b[0;34m\u001b[0m\u001b[0;34m\u001b[0m\u001b[0m\n\u001b[0;32m----> 4\u001b[0;31m \u001b[0mprint\u001b[0m \u001b[0;34m(\u001b[0m\u001b[0;34m\"total :\"\u001b[0m \u001b[0;34m+\u001b[0m \u001b[0mint\u001b[0m\u001b[0;34m(\u001b[0m\u001b[0mtotal\u001b[0m\u001b[0;34m)\u001b[0m\u001b[0;34m)\u001b[0m\u001b[0;34m\u001b[0m\u001b[0;34m\u001b[0m\u001b[0m\n\u001b[0m\u001b[1;32m      5\u001b[0m \u001b[0;31m#tanda/digunakan untuk operasi pembagian\u001b[0m\u001b[0;34m\u001b[0m\u001b[0;34m\u001b[0m\u001b[0m\n",
            "\u001b[0;31mTypeError\u001b[0m: can only concatenate str (not \"int\") to str"
          ]
        }
      ]
    },
    {
      "cell_type": "code",
      "source": [
        "nama = input ('Masukkan nama anda :')\n",
        "mata_kuliah = input (\"Mata Kuliah anda hari ini :\")\n",
        "print ('Selamat Pagi '+ nama)\n",
        "print ('Semangat mengikuti kelas ' +mata_kuliah)\n",
        "#gunanya dikasi spasi supaaya nanti dia mau ada spasi setelah di run\n",
        "#ini untuk penggunaan yang namanya diinput sendiri\n",
        "#sama seperti sebelumnya, nama itu ga isi petik karena udah didefinisikan sebelumnya \n",
        "#atau udah diinput sebelumnya"
      ],
      "metadata": {
        "id": "YSYxjwFt6ift",
        "colab": {
          "base_uri": "https://localhost:8080/"
        },
        "outputId": "e53daba7-3ff7-4379-e2d5-f69024a8cdcb"
      },
      "execution_count": 2,
      "outputs": [
        {
          "output_type": "stream",
          "name": "stdout",
          "text": [
            "Masukkan nama anda :Ardi\n",
            "Mata Kuliah anda hari ini :Fisika Dasar II\n",
            "Selamat Pagi Ardi\n",
            "Semangat mengikuti kelas Fisika Dasar II\n"
          ]
        }
      ]
    },
    {
      "cell_type": "code",
      "source": [
        "buku_di_tas = input (\"Berapakah jumlah buku yang ada di tas anda? \")\n",
        "buku_di_meja = input (\"Berapakah jumlah buku yang ada di meja anda \")\n",
        "print ('Total buku anda adalah : ' +buku_di_tas + buku_di_meja)\n",
        "#ini tu dia diprint apa yang udah diinput atau didefinisikan sebelumnya dimana buku di tas itu dibuat ada 10 dan buku di meja ada 5\n",
        "#jadi yang dikeluarkan adalah angka 10 dan 5 itu atau dengan kata lain dia tidak dijumlahkan"
      ],
      "metadata": {
        "colab": {
          "base_uri": "https://localhost:8080/"
        },
        "id": "P8mBYosWf6YT",
        "outputId": "34e68ee9-43ad-4a6c-bee8-6d13d71b3876"
      },
      "execution_count": 4,
      "outputs": [
        {
          "output_type": "stream",
          "name": "stdout",
          "text": [
            "Berapakah jumlah buku yang ada di tas anda? 10\n",
            "Berapakah jumlah buku yang ada di meja anda 5\n",
            "Total buku anda adalah : 105\n"
          ]
        }
      ]
    },
    {
      "cell_type": "code",
      "source": [
        "buku_di_tas = input (\"Berapakah jumlah buku yang ada di tas anda? \")\n",
        "buku_di_meja = input (\"Berapakah jumlah buku yang ada di meja anda \")\n",
        "total_buku = int(buku_di_tas) + int(buku_di_meja)\n",
        "print ('Total buku anda adalah : ' +str(total_buku))\n",
        "#ini dia udah mau keluarannya di jumlah karena sebelumnya udah didefinisikan bahwa\n",
        "#untuk total buku itu pake penjumlahan dari jumlah buku di tas sama di meja\n",
        "#ini untuk jumlah kita pake tipe data string "
      ],
      "metadata": {
        "colab": {
          "base_uri": "https://localhost:8080/"
        },
        "id": "grzmd4g9iFwn",
        "outputId": "518d5cf3-9f4a-4f32-b769-6fa3e4871eae"
      },
      "execution_count": 5,
      "outputs": [
        {
          "output_type": "stream",
          "name": "stdout",
          "text": [
            "Berapakah jumlah buku yang ada di tas anda? 10\n",
            "Berapakah jumlah buku yang ada di meja anda 5\n",
            "Total buku anda adalah : 15\n"
          ]
        }
      ]
    },
    {
      "cell_type": "code",
      "source": [
        "buku_di_tas = input (\"Berapakah jumlah buku yang ada di tas anda? \")\n",
        "buku_di_meja = input (\"Berapakah jumlah buku yang ada di meja anda \")\n",
        "total_buku = int(buku_di_tas) + int(buku_di_meja)\n",
        "print ('Total buku anda adalah : ' +(total_buku))\n",
        "#ini error karena tipe data di outputnya seharusnya memakai tipe str untuk menggabungkan data int di atasnya"
      ],
      "metadata": {
        "colab": {
          "base_uri": "https://localhost:8080/",
          "height": 243
        },
        "id": "HahJsCFjjA21",
        "outputId": "8f1ec449-801c-4573-e204-a641324892d1"
      },
      "execution_count": 6,
      "outputs": [
        {
          "name": "stdout",
          "output_type": "stream",
          "text": [
            "Berapakah jumlah buku yang ada di tas anda? 10\n",
            "Berapakah jumlah buku yang ada di meja anda 5\n"
          ]
        },
        {
          "output_type": "error",
          "ename": "TypeError",
          "evalue": "ignored",
          "traceback": [
            "\u001b[0;31m---------------------------------------------------------------------------\u001b[0m",
            "\u001b[0;31mTypeError\u001b[0m                                 Traceback (most recent call last)",
            "\u001b[0;32m<ipython-input-6-7b8e5efc4872>\u001b[0m in \u001b[0;36m<module>\u001b[0;34m\u001b[0m\n\u001b[1;32m      2\u001b[0m \u001b[0mbuku_di_meja\u001b[0m \u001b[0;34m=\u001b[0m \u001b[0minput\u001b[0m \u001b[0;34m(\u001b[0m\u001b[0;34m\"Berapakah jumlah buku yang ada di meja anda \"\u001b[0m\u001b[0;34m)\u001b[0m\u001b[0;34m\u001b[0m\u001b[0;34m\u001b[0m\u001b[0m\n\u001b[1;32m      3\u001b[0m \u001b[0mtotal_buku\u001b[0m \u001b[0;34m=\u001b[0m \u001b[0mint\u001b[0m\u001b[0;34m(\u001b[0m\u001b[0mbuku_di_tas\u001b[0m\u001b[0;34m)\u001b[0m \u001b[0;34m+\u001b[0m \u001b[0mint\u001b[0m\u001b[0;34m(\u001b[0m\u001b[0mbuku_di_meja\u001b[0m\u001b[0;34m)\u001b[0m\u001b[0;34m\u001b[0m\u001b[0;34m\u001b[0m\u001b[0m\n\u001b[0;32m----> 4\u001b[0;31m \u001b[0mprint\u001b[0m \u001b[0;34m(\u001b[0m\u001b[0;34m'Total buku anda adalah : '\u001b[0m \u001b[0;34m+\u001b[0m\u001b[0;34m(\u001b[0m\u001b[0mtotal_buku\u001b[0m\u001b[0;34m)\u001b[0m\u001b[0;34m)\u001b[0m\u001b[0;34m\u001b[0m\u001b[0;34m\u001b[0m\u001b[0m\n\u001b[0m",
            "\u001b[0;31mTypeError\u001b[0m: can only concatenate str (not \"int\") to str"
          ]
        }
      ]
    },
    {
      "cell_type": "code",
      "source": [
        "buku_di_tas = input (\"Berapakah jumlah buku yang ada di tas anda? \")\n",
        "buku_di_meja = input (\"Berapakah jumlah buku yang ada di meja anda \")\n",
        "total_buku = str(buku_di_tas) + str(buku_di_meja)\n",
        "print ('Total buku anda adalah : ' + str(total_buku))\n",
        "#ini karena str berfungsi untuk menggabungkan dua buah data bukan untuk menjumlahkan \n",
        "#str itu menyatakan karakter/kalimat yang bisa berupa angka, huruf dll nya"
      ],
      "metadata": {
        "colab": {
          "base_uri": "https://localhost:8080/"
        },
        "id": "YEuRwW2LkzFn",
        "outputId": "242047d6-5ff7-4d58-dfeb-b1e369d69cae"
      },
      "execution_count": 7,
      "outputs": [
        {
          "output_type": "stream",
          "name": "stdout",
          "text": [
            "Berapakah jumlah buku yang ada di tas anda? 10\n",
            "Berapakah jumlah buku yang ada di meja anda 5\n",
            "Total buku anda adalah : 105\n"
          ]
        }
      ]
    },
    {
      "cell_type": "code",
      "source": [
        "buku_di_tas = input (\"Berapakah jumlah buku yang ada di tas anda? \")\n",
        "buku_di_meja = input (\"Berapakah jumlah buku yang ada di meja anda \")\n",
        "total_buku = str(buku_di_tas) + str(buku_di_meja)\n",
        "print ('Total buku anda adalah : ' + int(total_buku))\n",
        "#error karena harusnya make tipe data str untuk menjumlahkannya"
      ],
      "metadata": {
        "colab": {
          "base_uri": "https://localhost:8080/",
          "height": 243
        },
        "id": "6-Vcy13tmfI5",
        "outputId": "d5d054b7-5071-4a0f-eec8-25e094e5fbf8"
      },
      "execution_count": 8,
      "outputs": [
        {
          "name": "stdout",
          "output_type": "stream",
          "text": [
            "Berapakah jumlah buku yang ada di tas anda? 10\n",
            "Berapakah jumlah buku yang ada di meja anda 5\n"
          ]
        },
        {
          "output_type": "error",
          "ename": "TypeError",
          "evalue": "ignored",
          "traceback": [
            "\u001b[0;31m---------------------------------------------------------------------------\u001b[0m",
            "\u001b[0;31mTypeError\u001b[0m                                 Traceback (most recent call last)",
            "\u001b[0;32m<ipython-input-8-b2d77f7d258e>\u001b[0m in \u001b[0;36m<module>\u001b[0;34m\u001b[0m\n\u001b[1;32m      2\u001b[0m \u001b[0mbuku_di_meja\u001b[0m \u001b[0;34m=\u001b[0m \u001b[0minput\u001b[0m \u001b[0;34m(\u001b[0m\u001b[0;34m\"Berapakah jumlah buku yang ada di meja anda \"\u001b[0m\u001b[0;34m)\u001b[0m\u001b[0;34m\u001b[0m\u001b[0;34m\u001b[0m\u001b[0m\n\u001b[1;32m      3\u001b[0m \u001b[0mtotal_buku\u001b[0m \u001b[0;34m=\u001b[0m \u001b[0mstr\u001b[0m\u001b[0;34m(\u001b[0m\u001b[0mbuku_di_tas\u001b[0m\u001b[0;34m)\u001b[0m \u001b[0;34m+\u001b[0m \u001b[0mstr\u001b[0m\u001b[0;34m(\u001b[0m\u001b[0mbuku_di_meja\u001b[0m\u001b[0;34m)\u001b[0m\u001b[0;34m\u001b[0m\u001b[0;34m\u001b[0m\u001b[0m\n\u001b[0;32m----> 4\u001b[0;31m \u001b[0mprint\u001b[0m \u001b[0;34m(\u001b[0m\u001b[0;34m'Total buku anda adalah : '\u001b[0m \u001b[0;34m+\u001b[0m \u001b[0mint\u001b[0m\u001b[0;34m(\u001b[0m\u001b[0mtotal_buku\u001b[0m\u001b[0;34m)\u001b[0m\u001b[0;34m)\u001b[0m\u001b[0;34m\u001b[0m\u001b[0;34m\u001b[0m\u001b[0m\n\u001b[0m",
            "\u001b[0;31mTypeError\u001b[0m: can only concatenate str (not \"int\") to str"
          ]
        }
      ]
    },
    {
      "cell_type": "code",
      "source": [
        "Nama_kucing = \"Agas\"\n",
        "Umur = \"3 Tahun\"\n",
        "Jenis_kelamin = \"Jantan\"\n",
        "Pemilik = \"Anya\"\n",
        "print (Nama_kucing + \" adalah peliharaan dari \" + Pemilik + \" yang berusia \" + Umur + \" dan berjenis kelamin \" + Jenis_kelamin)\n",
        "#sama seperti penjelasan sebelumnya. disini ada yang ga make tanda petik karena udah didefinisikan terlebih dahulu sebelumnya\n",
        "#untuk yang isi tanda petik itu artinya yang bakal dihasilkan/output yang bakal diprint langsung"
      ],
      "metadata": {
        "colab": {
          "base_uri": "https://localhost:8080/"
        },
        "id": "TnkoJi74ns5W",
        "outputId": "cec8f5f8-7a48-457c-c421-eff1d92d52a5"
      },
      "execution_count": 11,
      "outputs": [
        {
          "output_type": "stream",
          "name": "stdout",
          "text": [
            "Agas adalah peliharaan dari Anya yang berusia 3 Tahun dan berjenis kelamin Jantan\n"
          ]
        }
      ]
    },
    {
      "cell_type": "code",
      "source": [
        "Nama_kucing = input ('Masukkan nama kucing anda :')\n",
        "Umur = input ('Masukkan umur kucing anda :')\n",
        "Jenis_kelamin = input ('Masukkan jenis kelamin kucing anda :')\n",
        "Pemilik = input ('Masukkan nama pemilik kucing :')\n",
        "print (Nama_kucing + \" adalah peliharaan dari \" + Pemilik + \" yang berusia \" + Umur + \" dan berjenis kelamin \" + Jenis_kelamin)\n",
        "#ini kalau mau bikin dia versi input datanya sendiri gitu jadi nanti nama dan lain-lainnya perlu diisi sendiri"
      ],
      "metadata": {
        "colab": {
          "base_uri": "https://localhost:8080/"
        },
        "id": "PA5bqZRtu_uP",
        "outputId": "eca43111-853a-4b75-96b0-281ed603ee28"
      },
      "execution_count": 12,
      "outputs": [
        {
          "output_type": "stream",
          "name": "stdout",
          "text": [
            "Masukkan nama kucing anda :Agas\n",
            "Masukkan umur kucing anda :3 Tahun\n",
            "Masukkan jenis kelamin kucing anda :Jantan\n",
            "Masukkan nama pemilik kucing :Anya\n",
            "Agas adalah peliharaan dari Anya yang berusia 3 Tahun dan berjenis kelamin Jantan\n"
          ]
        }
      ]
    },
    {
      "cell_type": "code",
      "source": [
        "#menghitung volume balok\n",
        "p = input (\"Input Nilai panjang :\")\n",
        "l = input ('Input Nilai lebar :')\n",
        "t = input (\"Input nilai tinggi :\")\n",
        "volume = int (p)*int(l)*int(t)\n",
        "print (\"Jadi volume balok tersebut adalah : \" + str(volume))\n",
        "#ini salah satu contoh juga penerapan data untuk menghitung volume balok dipakenya tipe integer\n",
        "#dimana tipe integer adalah tipe untuk bilangan bulat positif maupun negatif\n",
        "#output yang dihasilkan juga sudah sesuai dengan perhitungan normal menggunakan rumus volume balok"
      ],
      "metadata": {
        "colab": {
          "base_uri": "https://localhost:8080/"
        },
        "id": "Te11JBD038Yz",
        "outputId": "87dcdc8a-4e1e-438d-ede9-0db86c5ecc30"
      },
      "execution_count": 26,
      "outputs": [
        {
          "output_type": "stream",
          "name": "stdout",
          "text": [
            "Input Nilai panjang :10\n",
            "Input Nilai lebar :8\n",
            "Input nilai tinggi :5\n",
            "Jadi volume balok tersebut adalah : 400\n"
          ]
        }
      ]
    },
    {
      "cell_type": "code",
      "source": [],
      "metadata": {
        "id": "zZzeIcmm52aO"
      },
      "execution_count": null,
      "outputs": []
    }
  ]
}