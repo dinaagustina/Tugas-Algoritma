{
  "nbformat": 4,
  "nbformat_minor": 0,
  "metadata": {
    "colab": {
      "provenance": []
    },
    "kernelspec": {
      "name": "python3",
      "display_name": "Python 3"
    },
    "language_info": {
      "name": "python"
    }
  },
  "cells": [
    {
      "cell_type": "markdown",
      "source": [
        "# **List Dua Dimensi**\n",
        "List dua dimensi pada umumnya adalah menempatkan list di dalam list. \n",
        "Penggambarannya seperti sebuah matriks. \n",
        "Berikut adalah contoh dari penggunaan List Dua Dimensi"
      ],
      "metadata": {
        "id": "bi6ueDrkAIYd"
      }
    },
    {
      "cell_type": "code",
      "source": [
        "#deklarasikan sebuah matriks a berikut : \n",
        "matriks_a = [\n",
        "    [2,4,6,8], \n",
        "    [10,12,14,16]\n",
        "]\n",
        "matriks_b = [\n",
        "    [1,3,5,7], \n",
        "    [9,11,13,15]\n",
        "]\n",
        "print(matriks_a + matriks_b)\n",
        "#ini akan menghasilkan nilai berupa vektor baris dan bukan berupa matriks \n",
        "#ini juga tidak akan menghasilkan penjumlahan dari dua matriks yang sudah \n",
        "#dimasukkan melainkan hanya menggabungkan elemen-elemen dari matriks-matriks itu"
      ],
      "metadata": {
        "colab": {
          "base_uri": "https://localhost:8080/"
        },
        "id": "A7PvXyYBDWgT",
        "outputId": "6ebb4974-8b3d-4f71-9c7f-04da0bcca3be"
      },
      "execution_count": null,
      "outputs": [
        {
          "output_type": "stream",
          "name": "stdout",
          "text": [
            "[[2, 4, 6, 8], [10, 12, 14, 16], [1, 3, 5, 7], [9, 11, 13, 15]]\n"
          ]
        }
      ]
    },
    {
      "cell_type": "code",
      "source": [
        "matriks_a = [\n",
        "    [2,4,6,8], \n",
        "    [10,12,14,16]\n",
        "]\n",
        "matriks_b = [\n",
        "    [1,3,5,7], \n",
        "    [9,11,13,15]\n",
        "]\n",
        "for x in range(0,len(matriks_a)):\n",
        "#ini untuk menentukan panjang atau ukuran matriksnya\n",
        "  for y in range(0,len(matriks_a[0])):\n",
        "  #ini untuk menghasilkan kolom pada matriks\n",
        "  #ini dipakai 0 ataupun 1 hasilnya tetap sama\n",
        "    print(matriks_a[x][y]+matriks_b[x][y])\n",
        "    #perhatikan posisi-posisi seperti ini karena pada python dia bisa saja error\n",
        "    #jika posisinya tidak sesuai dan komputer tidak dapat membacanya dengan benar\n",
        "#ini adalah kode untuk menjumlahkan kedua buah matriks yang telah dideklarasikan\n",
        "#matriks ini tidak berbentuk matriks akan tetapi hasilnya sudah sesuai\n",
        "#untuk menghasilkan dia sebagai matriks, itu ada kode lainnya dan materi kita\n",
        "#belum sampai disana"
      ],
      "metadata": {
        "colab": {
          "base_uri": "https://localhost:8080/"
        },
        "id": "4BftQX51DjWy",
        "outputId": "bc2ee132-c41c-4d27-fedc-314ce5ed81e8"
      },
      "execution_count": null,
      "outputs": [
        {
          "output_type": "stream",
          "name": "stdout",
          "text": [
            "3\n",
            "7\n",
            "11\n",
            "15\n",
            "19\n",
            "23\n",
            "27\n",
            "31\n"
          ]
        }
      ]
    },
    {
      "cell_type": "code",
      "source": [
        "#ini adalah contoh error karena posisi dari penggunaan for dan printnya tidak \n",
        "#jelas sehingga tidak dapat dibaca oleh sistem dengan baik\n",
        "matriks_a = [\n",
        "    [2,4,6,8], \n",
        "    [10,12,14,16]\n",
        "]\n",
        "matriks_b = [\n",
        "    [1,3,5,7], \n",
        "    [9,11,13,15]\n",
        "]\n",
        "for x in range(0,len(matriks_a)):\n",
        "for y in range(0,len(matriks_a[0])):\n",
        "print(matriks_a[x][y]+matriks_b[x][y])"
      ],
      "metadata": {
        "colab": {
          "base_uri": "https://localhost:8080/",
          "height": 130
        },
        "id": "SbmIFHHuEIWW",
        "outputId": "885b0cc2-195a-45eb-b5d8-d984e0981301"
      },
      "execution_count": null,
      "outputs": [
        {
          "output_type": "error",
          "ename": "IndentationError",
          "evalue": "ignored",
          "traceback": [
            "\u001b[0;36m  File \u001b[0;32m\"<ipython-input-3-5df4736a6170>\"\u001b[0;36m, line \u001b[0;32m10\u001b[0m\n\u001b[0;31m    for y in range(0,len(matriks_a[0])):\u001b[0m\n\u001b[0m    ^\u001b[0m\n\u001b[0;31mIndentationError\u001b[0m\u001b[0;31m:\u001b[0m expected an indented block\n"
          ]
        }
      ]
    },
    {
      "cell_type": "code",
      "source": [
        "#untuk membuat list jadwal perkuliahan\n",
        "mata_kuliah_mesin = [\n",
        "    [\"kalkulus\"], \n",
        "    [\"aljabar\"],\n",
        "    [\"fisika\"],\n",
        "    [\"menggambar mesin\"],\n",
        "]\n",
        "hari = [\n",
        "    [\"senin\"],\n",
        "    [\"selasa\"],\n",
        "    [\"rabu\"], \n",
        "    [\"libur\"]\n",
        "]\n",
        "for x in range(0,len(hari)):\n",
        "#ini untuk menentukan panjang atau ukuran matriksnya\n",
        "  for y in range(0,len(mata_kuliah_mesin[0])):\n",
        "  #ini untuk menghasilkan kolom pada matriks\n",
        "  #ini dipakai 0 ataupun 1 hasilnya tetap sama\n",
        "    print(hari[x][y] + \" \" + mata_kuliah_mesin [x] [y])\n"
      ],
      "metadata": {
        "colab": {
          "base_uri": "https://localhost:8080/"
        },
        "id": "-W0GY6ltFCJG",
        "outputId": "34eeab19-f43a-4c92-d9b3-dd99b419d102"
      },
      "execution_count": 3,
      "outputs": [
        {
          "output_type": "stream",
          "name": "stdout",
          "text": [
            "senin kalkulus\n",
            "selasa aljabar\n",
            "rabu fisika\n",
            "libur menggambar mesin\n"
          ]
        }
      ]
    },
    {
      "cell_type": "code",
      "source": [
        "mata_kuliah_mesin[0]\n",
        "#ini seperti materi sebelumnya yaitu untuk mencari data di indeks ke 0 "
      ],
      "metadata": {
        "colab": {
          "base_uri": "https://localhost:8080/"
        },
        "id": "F4xmtWITG3H1",
        "outputId": "fac8f213-26c7-443d-b5bb-9e07c14b1ce2"
      },
      "execution_count": null,
      "outputs": [
        {
          "output_type": "execute_result",
          "data": {
            "text/plain": [
              "['kalkulus']"
            ]
          },
          "metadata": {},
          "execution_count": 47
        }
      ]
    },
    {
      "cell_type": "code",
      "source": [
        "hari[1][0]\n",
        "#ini untuk mencari urutan atau indeks juga dari matriks yaitu baris indeks 1 dan\n",
        "#kolom indeks ke-0 "
      ],
      "metadata": {
        "colab": {
          "base_uri": "https://localhost:8080/",
          "height": 35
        },
        "id": "C4zrH_bZPjFq",
        "outputId": "0d49647d-83ea-4762-f500-36096936a8dc"
      },
      "execution_count": null,
      "outputs": [
        {
          "output_type": "execute_result",
          "data": {
            "text/plain": [
              "'selasa'"
            ],
            "application/vnd.google.colaboratory.intrinsic+json": {
              "type": "string"
            }
          },
          "metadata": {},
          "execution_count": 49
        }
      ]
    },
    {
      "cell_type": "code",
      "source": [
        "hari[2][1]\n",
        "#ini error karena data yang kita punya cuma punya kolom 1 dan indeksnya itu \n",
        "#adalah 0 (sesuai dengan penjelasan indeks di python)"
      ],
      "metadata": {
        "colab": {
          "base_uri": "https://localhost:8080/",
          "height": 165
        },
        "id": "ARktfkFNP0Nz",
        "outputId": "a0ff0301-41c0-479e-a2e7-5f57c14ace7f"
      },
      "execution_count": null,
      "outputs": [
        {
          "output_type": "error",
          "ename": "IndexError",
          "evalue": "ignored",
          "traceback": [
            "\u001b[0;31m---------------------------------------------------------------------------\u001b[0m",
            "\u001b[0;31mIndexError\u001b[0m                                Traceback (most recent call last)",
            "\u001b[0;32m<ipython-input-50-31404bbe228c>\u001b[0m in \u001b[0;36m<cell line: 1>\u001b[0;34m()\u001b[0m\n\u001b[0;32m----> 1\u001b[0;31m \u001b[0mhari\u001b[0m\u001b[0;34m[\u001b[0m\u001b[0;36m2\u001b[0m\u001b[0;34m]\u001b[0m\u001b[0;34m[\u001b[0m\u001b[0;36m1\u001b[0m\u001b[0;34m]\u001b[0m\u001b[0;34m\u001b[0m\u001b[0;34m\u001b[0m\u001b[0m\n\u001b[0m",
            "\u001b[0;31mIndexError\u001b[0m: list index out of range"
          ]
        }
      ]
    },
    {
      "cell_type": "code",
      "source": [
        "hari + mata_kuliah_mesin\n",
        "#ini juga dapat dipakai untuk memanggil semua data di list yang kita punya"
      ],
      "metadata": {
        "colab": {
          "base_uri": "https://localhost:8080/"
        },
        "id": "MHtZ-BZFQSTX",
        "outputId": "7e74daf3-838f-4f92-844b-7a9683b8a3cf"
      },
      "execution_count": null,
      "outputs": [
        {
          "output_type": "execute_result",
          "data": {
            "text/plain": [
              "[['senin'],\n",
              " ['selasa'],\n",
              " ['rabu'],\n",
              " ['libur'],\n",
              " ['kalkulus'],\n",
              " ['aljabar'],\n",
              " ['fisika'],\n",
              " ['menggambar mesin']]"
            ]
          },
          "metadata": {},
          "execution_count": 51
        }
      ]
    },
    {
      "cell_type": "code",
      "source": [
        "for baris in mata_kuliah_mesin :\n",
        "  print(baris)\n",
        "  for kolom in mata_kuliah_mesin :\n",
        "    print(kolom)\n",
        "  #perintah ini digunakan untuk memanggil anggota dari list dua dimensi"
      ],
      "metadata": {
        "colab": {
          "base_uri": "https://localhost:8080/"
        },
        "id": "TqzMeP22RRJ-",
        "outputId": "fdf8c238-182e-4e9d-b2ac-7fd2df3a2060"
      },
      "execution_count": 5,
      "outputs": [
        {
          "output_type": "stream",
          "name": "stdout",
          "text": [
            "['kalkulus']\n",
            "['kalkulus']\n",
            "['aljabar']\n",
            "['fisika']\n",
            "['menggambar mesin']\n",
            "['aljabar']\n",
            "['kalkulus']\n",
            "['aljabar']\n",
            "['fisika']\n",
            "['menggambar mesin']\n",
            "['fisika']\n",
            "['kalkulus']\n",
            "['aljabar']\n",
            "['fisika']\n",
            "['menggambar mesin']\n",
            "['menggambar mesin']\n",
            "['kalkulus']\n",
            "['aljabar']\n",
            "['fisika']\n",
            "['menggambar mesin']\n"
          ]
        }
      ]
    },
    {
      "cell_type": "markdown",
      "source": [
        "# **Tuples**\n",
        "\n",
        "Tuples ini mirip dengan list hanya saja untuk tuples kita tidak dapat merubah isi atau anggota yang ada di dalamnya. berbeda dengan list yang bisa kita perintahkan untuk merubah atau menambahkan anggota lainnya. Adapun contoh penggunaan tuples yaitu :"
      ],
      "metadata": {
        "id": "vxfI13jDSA85"
      }
    },
    {
      "cell_type": "code",
      "source": [
        "# deklarasikan dulu data yang kita punya \n",
        "nilai = (75,89,85,80,87,90,95,97,98,100)\n",
        "print(nilai[0]"
      ],
      "metadata": {
        "colab": {
          "base_uri": "https://localhost:8080/"
        },
        "id": "hbMk2sdGSYSJ",
        "outputId": "192a0dcf-1d4e-4651-f62a-fea738ae83f4"
      },
      "execution_count": null,
      "outputs": [
        {
          "output_type": "stream",
          "name": "stdout",
          "text": [
            "75\n"
          ]
        }
      ]
    },
    {
      "cell_type": "code",
      "source": [
        "print(nilai[0:5])\n",
        "#perintah ini untuk menampilkan indeks 0 hingga ke-4 saja"
      ],
      "metadata": {
        "colab": {
          "base_uri": "https://localhost:8080/"
        },
        "id": "WDzO3zKsSeZ6",
        "outputId": "e2d3707a-23fb-4509-f86f-a35cdb3a2179"
      },
      "execution_count": null,
      "outputs": [
        {
          "output_type": "stream",
          "name": "stdout",
          "text": [
            "(75, 89, 85, 80, 87)\n"
          ]
        }
      ]
    },
    {
      "cell_type": "code",
      "source": [
        "for isi in nilai[0:7] :\n",
        "  print(isi)\n",
        "#ini juga untuk menampilkan data dari indeks ke-0 sampai indeks ke-6"
      ],
      "metadata": {
        "colab": {
          "base_uri": "https://localhost:8080/"
        },
        "id": "NmaoYKlaSquA",
        "outputId": "610db06d-7feb-4a02-d7ff-438a0b076f3f"
      },
      "execution_count": null,
      "outputs": [
        {
          "output_type": "stream",
          "name": "stdout",
          "text": [
            "75\n",
            "89\n",
            "85\n",
            "80\n",
            "87\n",
            "90\n",
            "95\n"
          ]
        }
      ]
    },
    {
      "cell_type": "code",
      "source": [
        "nilai.append(55)"
      ],
      "metadata": {
        "colab": {
          "base_uri": "https://localhost:8080/",
          "height": 165
        },
        "id": "DPpTIZ8ES1CO",
        "outputId": "7200a356-f054-4dca-c0ac-adcadd7110d4"
      },
      "execution_count": null,
      "outputs": [
        {
          "output_type": "error",
          "ename": "AttributeError",
          "evalue": "ignored",
          "traceback": [
            "\u001b[0;31m---------------------------------------------------------------------------\u001b[0m",
            "\u001b[0;31mAttributeError\u001b[0m                            Traceback (most recent call last)",
            "\u001b[0;32m<ipython-input-64-9c9801d45a13>\u001b[0m in \u001b[0;36m<cell line: 1>\u001b[0;34m()\u001b[0m\n\u001b[0;32m----> 1\u001b[0;31m \u001b[0mnilai\u001b[0m\u001b[0;34m.\u001b[0m\u001b[0mappend\u001b[0m\u001b[0;34m(\u001b[0m\u001b[0;36m55\u001b[0m\u001b[0;34m)\u001b[0m\u001b[0;34m\u001b[0m\u001b[0;34m\u001b[0m\u001b[0m\n\u001b[0m",
            "\u001b[0;31mAttributeError\u001b[0m: 'tuple' object has no attribute 'append'"
          ]
        }
      ]
    },
    {
      "cell_type": "code",
      "source": [
        "nilai.remove(75)"
      ],
      "metadata": {
        "colab": {
          "base_uri": "https://localhost:8080/",
          "height": 165
        },
        "id": "uzfh7Q1vTBsj",
        "outputId": "73c929a1-bb29-4136-9c70-cc0fc0d71800"
      },
      "execution_count": null,
      "outputs": [
        {
          "output_type": "error",
          "ename": "AttributeError",
          "evalue": "ignored",
          "traceback": [
            "\u001b[0;31m---------------------------------------------------------------------------\u001b[0m",
            "\u001b[0;31mAttributeError\u001b[0m                            Traceback (most recent call last)",
            "\u001b[0;32m<ipython-input-65-b701652750e9>\u001b[0m in \u001b[0;36m<cell line: 1>\u001b[0;34m()\u001b[0m\n\u001b[0;32m----> 1\u001b[0;31m \u001b[0mnilai\u001b[0m\u001b[0;34m.\u001b[0m\u001b[0mremove\u001b[0m\u001b[0;34m(\u001b[0m\u001b[0;36m75\u001b[0m\u001b[0;34m)\u001b[0m\u001b[0;34m\u001b[0m\u001b[0;34m\u001b[0m\u001b[0m\n\u001b[0m",
            "\u001b[0;31mAttributeError\u001b[0m: 'tuple' object has no attribute 'remove'"
          ]
        }
      ]
    },
    {
      "cell_type": "code",
      "source": [
        "nilai.count(75)\n",
        "#ini untuk mengetahui ada berapa jumlah data dari nilai yang kita input"
      ],
      "metadata": {
        "colab": {
          "base_uri": "https://localhost:8080/"
        },
        "id": "i38tIjGyTGOr",
        "outputId": "9ab3735c-944a-41a5-ab1a-e765a16e7c9e"
      },
      "execution_count": null,
      "outputs": [
        {
          "output_type": "execute_result",
          "data": {
            "text/plain": [
              "1"
            ]
          },
          "metadata": {},
          "execution_count": 66
        }
      ]
    },
    {
      "cell_type": "code",
      "source": [
        "nilai.count()\n",
        "#ini error karena sistem tidak tahu nilai apa yang ingin dihitung jumlahnya"
      ],
      "metadata": {
        "colab": {
          "base_uri": "https://localhost:8080/",
          "height": 165
        },
        "id": "BZbctaoCV2MN",
        "outputId": "0817055b-7002-4471-bedc-453454ffd0c1"
      },
      "execution_count": null,
      "outputs": [
        {
          "output_type": "error",
          "ename": "TypeError",
          "evalue": "ignored",
          "traceback": [
            "\u001b[0;31m---------------------------------------------------------------------------\u001b[0m",
            "\u001b[0;31mTypeError\u001b[0m                                 Traceback (most recent call last)",
            "\u001b[0;32m<ipython-input-69-9cd0a1b08f12>\u001b[0m in \u001b[0;36m<cell line: 1>\u001b[0;34m()\u001b[0m\n\u001b[0;32m----> 1\u001b[0;31m \u001b[0mnilai\u001b[0m\u001b[0;34m.\u001b[0m\u001b[0mcount\u001b[0m\u001b[0;34m(\u001b[0m\u001b[0;34m)\u001b[0m\u001b[0;34m\u001b[0m\u001b[0;34m\u001b[0m\u001b[0m\n\u001b[0m",
            "\u001b[0;31mTypeError\u001b[0m: tuple.count() takes exactly one argument (0 given)"
          ]
        }
      ]
    },
    {
      "cell_type": "code",
      "source": [
        "nilai.index(75)\n",
        "#ini berarti nilai 75 merupakan indeks ke-0 pada data yang kita punya"
      ],
      "metadata": {
        "colab": {
          "base_uri": "https://localhost:8080/"
        },
        "id": "orQ3npKETLq3",
        "outputId": "0990da04-18e5-4395-a3df-b57a931f848f"
      },
      "execution_count": null,
      "outputs": [
        {
          "output_type": "execute_result",
          "data": {
            "text/plain": [
              "0"
            ]
          },
          "metadata": {},
          "execution_count": 67
        }
      ]
    },
    {
      "cell_type": "code",
      "source": [
        "nilai.count(10)\n",
        "#ini karena nilai 10 tidak ada di data yang telah dideklarasikan sebelumnya"
      ],
      "metadata": {
        "colab": {
          "base_uri": "https://localhost:8080/"
        },
        "id": "ykMEC9FCTPCO",
        "outputId": "4421c8ef-a5be-4c36-c687-89b89452265b"
      },
      "execution_count": null,
      "outputs": [
        {
          "output_type": "execute_result",
          "data": {
            "text/plain": [
              "0"
            ]
          },
          "metadata": {},
          "execution_count": 68
        }
      ]
    },
    {
      "cell_type": "markdown",
      "source": [
        "# **Dictionaries**\n",
        "\n",
        "Dictionaries diibaratkan seperti perpustakaan dari data-data yang kita miliki. Dictionaries digunakan apabila data-data tersebut saling terkait satu sama lainnya. Data seperti identitas dan riwayat hidup seseorang merupakan salah satu contoh dari penggunaan dictionaries. Berikut adalah contoh kode dari dictionaries : "
      ],
      "metadata": {
        "id": "nPaAK7rYWAGJ"
      }
    },
    {
      "cell_type": "code",
      "source": [
        "#deklarasikan terlebih dahulu data yang kita punya\n",
        "identitas_43 = {\n",
        "    \"nama\" : \"Ni Putu Dina Agustina\",\n",
        "    \"umur\" : 19, \n",
        "    \"gender\" : \"Perempuan\",\n",
        "    \"apakah single?\" : False \n",
        "}"
      ],
      "metadata": {
        "id": "WpVK7_ZPVjXi"
      },
      "execution_count": null,
      "outputs": []
    },
    {
      "cell_type": "code",
      "source": [
        "print(identitas_43[\"nama\"])\n",
        "#ini merupakan format untuk menggunakan dictionaries"
      ],
      "metadata": {
        "colab": {
          "base_uri": "https://localhost:8080/"
        },
        "id": "4Xp6MMDzXevF",
        "outputId": "66bea99c-5c73-4e4e-81cc-0b1d844d2822"
      },
      "execution_count": null,
      "outputs": [
        {
          "output_type": "stream",
          "name": "stdout",
          "text": [
            "Ni Putu Dina Agustina\n"
          ]
        }
      ]
    },
    {
      "cell_type": "code",
      "source": [
        "print(identitas_43[\"umur\"])\n",
        "#ini merupakan contoh yang lain terkait penggunaan dictionaries"
      ],
      "metadata": {
        "colab": {
          "base_uri": "https://localhost:8080/"
        },
        "id": "hrj87eNDXwIS",
        "outputId": "e7c40f23-b640-474b-ef21-e2d35f8e1c63"
      },
      "execution_count": null,
      "outputs": [
        {
          "output_type": "stream",
          "name": "stdout",
          "text": [
            "19\n"
          ]
        }
      ]
    },
    {
      "cell_type": "code",
      "source": [
        "print(identitas_43.get(\"nama\"))\n",
        "#ini juga merupakan format lain untuk menggunaakan dictionaries"
      ],
      "metadata": {
        "colab": {
          "base_uri": "https://localhost:8080/"
        },
        "id": "xsPSj8cMYDze",
        "outputId": "21c6eb68-5b71-4a50-f755-c998a7b75d91"
      },
      "execution_count": null,
      "outputs": [
        {
          "output_type": "stream",
          "name": "stdout",
          "text": [
            "Ni Putu Dina Agustina\n"
          ]
        }
      ]
    },
    {
      "cell_type": "code",
      "source": [
        "print(identitas_43.get(\"Nama\"))\n",
        "#ini berarti dalam dictionaries tadi tidak dideklarasikan untuk variabel Nama\n",
        "#karena yang digunakan adalah \"nama\" bukan \"Nama\" sehingga maknanya akan beda"
      ],
      "metadata": {
        "colab": {
          "base_uri": "https://localhost:8080/"
        },
        "id": "-FlhnHlvYQsA",
        "outputId": "51c7a425-7773-4e1e-e454-360def65684e"
      },
      "execution_count": null,
      "outputs": [
        {
          "output_type": "stream",
          "name": "stdout",
          "text": [
            "None\n"
          ]
        }
      ]
    },
    {
      "cell_type": "code",
      "source": [
        "print(identitas_43.get(\"tanggal_lahir\"))\n",
        "#ini tidak ada dalam dictionaries karena tidak kita deklarasikan sebelumnya"
      ],
      "metadata": {
        "colab": {
          "base_uri": "https://localhost:8080/"
        },
        "id": "1h9CaUA9Y-1O",
        "outputId": "9059dc89-ba76-426e-fb56-0018c17bd227"
      },
      "execution_count": null,
      "outputs": [
        {
          "output_type": "stream",
          "name": "stdout",
          "text": [
            "None\n"
          ]
        }
      ]
    },
    {
      "cell_type": "code",
      "source": [
        "print(identitas_43.get(\"tanggal_lahir\",\"21-11-2003\"))\n",
        "#ini untuk menambahkan tanggal lahirnya "
      ],
      "metadata": {
        "colab": {
          "base_uri": "https://localhost:8080/"
        },
        "id": "kcZwlARrYbyR",
        "outputId": "5436f727-9ffa-4cf6-c021-5081a7672946"
      },
      "execution_count": null,
      "outputs": [
        {
          "output_type": "stream",
          "name": "stdout",
          "text": [
            "21-11-2003\n"
          ]
        }
      ]
    },
    {
      "cell_type": "code",
      "source": [
        "#deklarasikan data-data berikut : \n",
        "#salah satu contoh untuk menjadikan data angka menjadi huruf \n",
        "identitas_angka= {\n",
        "    \"0\" : \"nol\",\n",
        "    \"1\" : \"satu\",\n",
        "    \"2\" : \"dua\", \n",
        "    \"3\" : \"tiga\",  \n",
        "    \"4\" : \"empat\",\n",
        "    \"5\" : \"lima\",\n",
        "    \"6\" : \"enam\", \n",
        "    \"7\" : \"tujuh\", \n",
        "    \"8\" : \"delapan\",\n",
        "    \"9\" : \"sembilan\"\n",
        "}"
      ],
      "metadata": {
        "id": "fgcX7SNAY7t6"
      },
      "execution_count": 9,
      "outputs": []
    },
    {
      "cell_type": "code",
      "source": [
        "#contoh untuk data yang diinputkan sendiri\n",
        "NIM_Peserta = input(\"Masukkan NIM Anda : \")\n",
        "nomor_angka = \" \"\n",
        "for isi in NIM_Peserta :\n",
        "  nomor_angka +=identitas_angka.get(isi) + \" \"\n",
        "print(nomor_angka)"
      ],
      "metadata": {
        "colab": {
          "base_uri": "https://localhost:8080/"
        },
        "id": "gLF7KFeMveKv",
        "outputId": "a49f4bb8-0a77-411c-a3d5-44c5722c9617"
      },
      "execution_count": 14,
      "outputs": [
        {
          "output_type": "stream",
          "name": "stdout",
          "text": [
            "Masukkan NIM Anda : 2208541043\n",
            " dua dua nol delapan lima empat satu nol empat tiga \n"
          ]
        }
      ]
    },
    {
      "cell_type": "code",
      "source": [
        "#contoh untuk penggunaan data yang sudah dideklarasikan\n",
        "Nim = \"2205531035\" \n",
        "nomor_angka = \" \"\n",
        "for isi in Nim :\n",
        "  nomor_angka +=identitas_angka.get(isi) + \" \"\n",
        "print(nomor_angka)"
      ],
      "metadata": {
        "colab": {
          "base_uri": "https://localhost:8080/"
        },
        "id": "id06dyC9x86K",
        "outputId": "d6d614a9-0031-4193-b412-4bf792267a3e"
      },
      "execution_count": 17,
      "outputs": [
        {
          "output_type": "stream",
          "name": "stdout",
          "text": [
            " dua dua nol lima lima tiga satu nol tiga lima \n"
          ]
        }
      ]
    },
    {
      "cell_type": "markdown",
      "source": [
        "# **Fungsi Dalam Python**\n",
        "\n",
        "Fungsi pada python merupakan bagian atau blok program yang memiliki tugas tertentu. Adapun beberapa jenis fungsi seperti fungsi input, print, len, range dan sebagainya termasuk rumus-rumus dalam matematika. \n",
        "\n",
        "Ada dua jenis tugas fungsi pada python yaitu :\n",
        "1. Menjalankan perintah\n",
        "2. Menampilkan hasil perhitungan\n",
        "\n",
        "Untuk pengunaan fungsi pada python dapat dilihat melalui contoh-contoh berikut ini :"
      ],
      "metadata": {
        "id": "T0MmVJng5KxI"
      }
    },
    {
      "cell_type": "code",
      "source": [
        "#menjalankan perintah input dan print\n",
        "#penggunaan \\n untuk enter atau membuat baris baru \n",
        "nama = input(\"Masukkan nama Anda : \")\n",
        "matkul = input(\"Masukkan jadwal Mata Kuliah Anda hari ini : \")\n",
        "print(\"Selamat datang\" + \" \" +nama + \"\\n\" + \"Semangat mengikuti mata kuliah \" + matkul + \" hari ini!\")"
      ],
      "metadata": {
        "colab": {
          "base_uri": "https://localhost:8080/"
        },
        "id": "u_dHZYqO9CxB",
        "outputId": "60dd7a0c-737f-45a6-dd9c-cf7925995b48"
      },
      "execution_count": 43,
      "outputs": [
        {
          "output_type": "stream",
          "name": "stdout",
          "text": [
            "Masukkan nama Anda : Dina\n",
            "Masukkan jadwal Mata Kuliah Anda hari ini : Algoritma\n",
            "Selamat datang Dina\n",
            "Semangat mengikuti mata kuliah Algoritma hari ini!\n"
          ]
        }
      ]
    },
    {
      "cell_type": "code",
      "source": [
        "a = input(\"masukkan panjang alas segitiga  :\")\n",
        "t = input(\"masukkan tinggi segitiga :\")\n",
        "luas_segitiga = 0.5 * float(a) * float(t)\n",
        "print(\"Luas Segitiga adalah :\",luas_segitiga)\n",
        "#kode ini akan menghasilkan angka-angka di belakang koma dikarenakan menggunakan\n",
        "#tipe data numerik float"
      ],
      "metadata": {
        "colab": {
          "base_uri": "https://localhost:8080/"
        },
        "id": "lkmCusSr6cMY",
        "outputId": "78b1353b-c97f-4623-be13-e320fd4ce350"
      },
      "execution_count": 18,
      "outputs": [
        {
          "output_type": "stream",
          "name": "stdout",
          "text": [
            "masukkan panjang alas segitiga  :4\n",
            "masukkan tinggi segitiga :6\n",
            "Luas Segitiga adalah : 12.0\n"
          ]
        }
      ]
    },
    {
      "cell_type": "code",
      "source": [
        "nama_depan = input(\"Masukkan nama depan Anda : \")\n",
        "nama_belakang = input(\"Masukkan nama belakang Anda : \")\n",
        "full_name = nama_depan +\" \"+ nama_belakang\n",
        "print(full_name)"
      ],
      "metadata": {
        "colab": {
          "base_uri": "https://localhost:8080/"
        },
        "id": "gSLRsKPn6g_O",
        "outputId": "42a6f5e8-85f5-484d-a3ed-34844f1572ba"
      },
      "execution_count": 29,
      "outputs": [
        {
          "output_type": "stream",
          "name": "stdout",
          "text": [
            "Masukkan nama depan Anda : Gede Ardi\n",
            "Masukkan nama belakang Anda : Wedyantara\n",
            "Gede Ardi Wedyantara\n"
          ]
        }
      ]
    },
    {
      "cell_type": "code",
      "source": [
        "string = \"\"\n",
        "\n",
        "x = int(input(\"Masukkan angka :\"))\n",
        "bar = x\n",
        "# Looping Baris\n",
        "while bar >= 0:\n",
        "\n",
        "\t# Looping Kolom Spasi Kosong\n",
        "\tkol = bar\n",
        "\twhile kol > 0:\n",
        "\t\tstring = string + \"   \"\n",
        "\t\tkol = kol - 1\n",
        "\t\n",
        "\t# Looping Kolom Bintang\t\n",
        "\tkanan = 1\n",
        "\twhile kanan < (x - (bar-1)):\n",
        "\t\tstring = string + \" * \"\n",
        "\t\tkanan = kanan + 1\t\t\n",
        "\t\t\n",
        "\tstring = string + \"\\n\"\n",
        "\tbar = bar - 1\n",
        "\t\n",
        "print (string)"
      ],
      "metadata": {
        "colab": {
          "base_uri": "https://localhost:8080/"
        },
        "id": "4ZSzaWB57PqW",
        "outputId": "b5b4794f-db33-497b-81fc-10c1cbe01e2b"
      },
      "execution_count": 41,
      "outputs": [
        {
          "output_type": "stream",
          "name": "stdout",
          "text": [
            "Masukkan angka :8\n",
            "                        \n",
            "                      * \n",
            "                   *  * \n",
            "                *  *  * \n",
            "             *  *  *  * \n",
            "          *  *  *  *  * \n",
            "       *  *  *  *  *  * \n",
            "    *  *  *  *  *  *  * \n",
            " *  *  *  *  *  *  *  * \n",
            "\n"
          ]
        }
      ]
    },
    {
      "cell_type": "code",
      "source": [
        "#deklarasikan terlebih dahulu data yang kita miliki\n",
        "#untuk angka yang diinputkan bertipe float yaitu mencakup bil desimal\n",
        "print('##  Program Python Menghitung Luas Trapesium  ##')\n",
        "print('================================================')\n",
        "print()\n",
        "  \n",
        "sisi_atas = float(input('Input panjang sisi sejajar atas: '))\n",
        "sisi_bawah = float(input('Input panjang sisi sejajar bawah: '))\n",
        "tinggi = float(input('Input tinggi trapesium: '))\n",
        " \n",
        "luas = 0.5 * (sisi_atas + sisi_bawah) * tinggi;\n",
        " \n",
        "print('Luas trapesium =',round(luas,2))"
      ],
      "metadata": {
        "colab": {
          "base_uri": "https://localhost:8080/"
        },
        "id": "QzYbJPDl-tJb",
        "outputId": "50d76435-6273-45c5-d53d-b149bbb7402f"
      },
      "execution_count": 44,
      "outputs": [
        {
          "output_type": "stream",
          "name": "stdout",
          "text": [
            "##  Program Python Menghitung Luas Trapesium  ##\n",
            "================================================\n",
            "\n",
            "Input panjang sisi sejajar atas: 6.5\n",
            "Input panjang sisi sejajar bawah: 7.8\n",
            "Input tinggi trapesium: 2\n",
            "Luas trapesium = 14.3\n"
          ]
        }
      ]
    },
    {
      "cell_type": "code",
      "source": [
        "def jarak_tempuh(kecepatan,waktu):\n",
        "  jarak_tempuh = kecepatan*waktu\n",
        "  print(jarak_tempuh)\n",
        "#ini untuk mendefinisikan variabel dan rumusnya"
      ],
      "metadata": {
        "id": "KSo6wqX5_xls"
      },
      "execution_count": 45,
      "outputs": []
    },
    {
      "cell_type": "code",
      "source": [
        "jarak_tempuh(100,30)\n",
        "#ini adalah jarak yang ditempuh berdasarkan rumus yang dimasukkan"
      ],
      "metadata": {
        "colab": {
          "base_uri": "https://localhost:8080/"
        },
        "id": "ufchEwuWAtZj",
        "outputId": "c0dba83a-6c8e-4e3c-e2c7-f65c3ee610f7"
      },
      "execution_count": 47,
      "outputs": [
        {
          "output_type": "stream",
          "name": "stdout",
          "text": [
            "3000\n"
          ]
        }
      ]
    },
    {
      "cell_type": "code",
      "source": [
        "#mendefinisikan variabel yang diperlukan untuk mencari luas persegi panjang\n",
        "#ini digunakan untuk menginputkan data sendiri\n",
        "panjang = float(input('Input panjang persegi panjang : '))\n",
        "lebar = float(input('Input lebar persegi panjang : '))\n",
        "luas_persegi_panjang = panjang*lebar\n",
        "print(luas_persegi_panjang)"
      ],
      "metadata": {
        "colab": {
          "base_uri": "https://localhost:8080/"
        },
        "id": "EVAuIQVMDDGj",
        "outputId": "6903754b-5c90-433f-f71e-0f0548136c40"
      },
      "execution_count": 65,
      "outputs": [
        {
          "output_type": "stream",
          "name": "stdout",
          "text": [
            "Input panjang persegi panjang : 29\n",
            "Input lebar persegi panjang : 12\n",
            "348.0\n"
          ]
        }
      ]
    },
    {
      "cell_type": "markdown",
      "source": [
        "# **Numpy**\n",
        "\n",
        "Numpy merupakan salah satu library dalam python yang memiliki keunggulan dalam perhitungan menggunakan vektor dan matriks dalam berbagai dimensi. Dimulai dengan memanggil library Numpy sebagai berikut : \n",
        "\n"
      ],
      "metadata": {
        "id": "xLlZnPlYEycR"
      }
    },
    {
      "cell_type": "code",
      "source": [
        "import pandas as pd\n",
        "#ini untuk memanggil numpy"
      ],
      "metadata": {
        "id": "ZjMSKrn-Fpz3"
      },
      "execution_count": 66,
      "outputs": []
    },
    {
      "cell_type": "code",
      "source": [
        "import numpy as np\n",
        "#ini untuk memanggil numpy juga"
      ],
      "metadata": {
        "id": "CCp1Ybl_F-f5"
      },
      "execution_count": 68,
      "outputs": []
    },
    {
      "cell_type": "markdown",
      "source": [
        "# **Perintah Dasar pada Numpy**"
      ],
      "metadata": {
        "id": "eKgDDYmZGwpy"
      }
    },
    {
      "cell_type": "code",
      "source": [
        "a = np.array([0,1,2,3,4,10])\n",
        "print(a)\n",
        "#ini merupakan perintah dasar pada numpy "
      ],
      "metadata": {
        "colab": {
          "base_uri": "https://localhost:8080/"
        },
        "id": "QeHdgPJFFsrB",
        "outputId": "7af0b574-1072-4d19-b675-91e7e916b6fc"
      },
      "execution_count": 69,
      "outputs": [
        {
          "output_type": "stream",
          "name": "stdout",
          "text": [
            "[ 0  1  2  3  4 10]\n"
          ]
        }
      ]
    },
    {
      "cell_type": "code",
      "source": [
        "a.ndim\n",
        "#ini untuk mengetahui jumlah barisnya "
      ],
      "metadata": {
        "colab": {
          "base_uri": "https://localhost:8080/"
        },
        "id": "UneCgOdsF8pg",
        "outputId": "9403d88e-9360-48ef-a104-c91ad7e96127"
      },
      "execution_count": 70,
      "outputs": [
        {
          "output_type": "execute_result",
          "data": {
            "text/plain": [
              "1"
            ]
          },
          "metadata": {},
          "execution_count": 70
        }
      ]
    },
    {
      "cell_type": "code",
      "source": [
        "a.shape\n",
        "#ini untuk menentukan jumlah kolomnya"
      ],
      "metadata": {
        "colab": {
          "base_uri": "https://localhost:8080/"
        },
        "id": "mbAnFl8OGXbt",
        "outputId": "8016992c-7c5b-4436-d6ba-420412130125"
      },
      "execution_count": 71,
      "outputs": [
        {
          "output_type": "execute_result",
          "data": {
            "text/plain": [
              "(6,)"
            ]
          },
          "metadata": {},
          "execution_count": 71
        }
      ]
    },
    {
      "cell_type": "markdown",
      "source": [
        "# **Memanggil Anggota, Kolom dan Baris dengan Numpy**"
      ],
      "metadata": {
        "id": "bloCmoWbG6VZ"
      }
    },
    {
      "cell_type": "code",
      "source": [
        "g = np.array([[2,4,6], [8,10,12], [14,16,18]])\n",
        "print(g)\n",
        "#ini untuk menyimpan data dalam array"
      ],
      "metadata": {
        "colab": {
          "base_uri": "https://localhost:8080/"
        },
        "id": "yS6LB5vPHCG7",
        "outputId": "71778f54-fa54-4067-e8db-f79257f602b0"
      },
      "execution_count": 73,
      "outputs": [
        {
          "output_type": "stream",
          "name": "stdout",
          "text": [
            "[[ 2  4  6]\n",
            " [ 8 10 12]\n",
            " [14 16 18]]\n"
          ]
        }
      ]
    },
    {
      "cell_type": "code",
      "source": [
        "g[0,2]\n",
        "#ini menentukan indeksnya"
      ],
      "metadata": {
        "colab": {
          "base_uri": "https://localhost:8080/"
        },
        "id": "ZqijSQWAHdKC",
        "outputId": "8282614a-8a99-44ed-ee26-2bdd84546a68"
      },
      "execution_count": 76,
      "outputs": [
        {
          "output_type": "execute_result",
          "data": {
            "text/plain": [
              "6"
            ]
          },
          "metadata": {},
          "execution_count": 76
        }
      ]
    },
    {
      "cell_type": "code",
      "source": [
        "g[0,0] = 20\n",
        "print(g)\n",
        "#ini untuk mengganti pada posisi indeks kolom 0 baris 0"
      ],
      "metadata": {
        "colab": {
          "base_uri": "https://localhost:8080/"
        },
        "id": "-rSMCTqXHjnz",
        "outputId": "05ad11c4-0046-4f17-f7bd-fb4d4ae5089a"
      },
      "execution_count": 77,
      "outputs": [
        {
          "output_type": "stream",
          "name": "stdout",
          "text": [
            "[[20  4  6]\n",
            " [ 8 10 12]\n",
            " [14 16 18]]\n"
          ]
        }
      ]
    },
    {
      "cell_type": "markdown",
      "source": [
        "# **Matriks pada Numpy**\n",
        "\n",
        "Digunakan untuk membuat berbagai jenis matriks\n"
      ],
      "metadata": {
        "id": "dGO9gBCNIHKg"
      }
    },
    {
      "cell_type": "code",
      "source": [
        "np.ones((1,3))\n",
        "#ini untuk membuat 3 kolom dengan posisi 1 di depan"
      ],
      "metadata": {
        "colab": {
          "base_uri": "https://localhost:8080/"
        },
        "id": "0ecSy5ifIK9N",
        "outputId": "8e270a2e-00cb-4111-c795-235a4ae74be3"
      },
      "execution_count": 79,
      "outputs": [
        {
          "output_type": "execute_result",
          "data": {
            "text/plain": [
              "array([[1., 1., 1.]])"
            ]
          },
          "metadata": {},
          "execution_count": 79
        }
      ]
    },
    {
      "cell_type": "code",
      "source": [
        "a = np.zeroes((10,10))\n",
        "#ini berarti di library numpynya belum ada"
      ],
      "metadata": {
        "colab": {
          "base_uri": "https://localhost:8080/",
          "height": 287
        },
        "id": "6Y30cmSjIlhq",
        "outputId": "6c979b0c-0d74-4a00-d6ad-5edc91ffaa96"
      },
      "execution_count": 83,
      "outputs": [
        {
          "output_type": "error",
          "ename": "AttributeError",
          "evalue": "ignored",
          "traceback": [
            "\u001b[0;31m---------------------------------------------------------------------------\u001b[0m",
            "\u001b[0;31mAttributeError\u001b[0m                            Traceback (most recent call last)",
            "\u001b[0;32m<ipython-input-83-a7b79a6d5843>\u001b[0m in \u001b[0;36m<cell line: 1>\u001b[0;34m()\u001b[0m\n\u001b[0;32m----> 1\u001b[0;31m \u001b[0ma\u001b[0m \u001b[0;34m=\u001b[0m \u001b[0mnp\u001b[0m\u001b[0;34m.\u001b[0m\u001b[0mzeroes\u001b[0m\u001b[0;34m(\u001b[0m\u001b[0;34m(\u001b[0m\u001b[0;36m10\u001b[0m\u001b[0;34m,\u001b[0m\u001b[0;36m10\u001b[0m\u001b[0;34m)\u001b[0m\u001b[0;34m)\u001b[0m\u001b[0;34m\u001b[0m\u001b[0;34m\u001b[0m\u001b[0m\n\u001b[0m",
            "\u001b[0;32m/usr/local/lib/python3.9/dist-packages/numpy/__init__.py\u001b[0m in \u001b[0;36m__getattr__\u001b[0;34m(attr)\u001b[0m\n\u001b[1;32m    313\u001b[0m             \u001b[0;32mreturn\u001b[0m \u001b[0mTester\u001b[0m\u001b[0;34m\u001b[0m\u001b[0;34m\u001b[0m\u001b[0m\n\u001b[1;32m    314\u001b[0m \u001b[0;34m\u001b[0m\u001b[0m\n\u001b[0;32m--> 315\u001b[0;31m         raise AttributeError(\"module {!r} has no attribute \"\n\u001b[0m\u001b[1;32m    316\u001b[0m                              \"{!r}\".format(__name__, attr))\n\u001b[1;32m    317\u001b[0m \u001b[0;34m\u001b[0m\u001b[0m\n",
            "\u001b[0;31mAttributeError\u001b[0m: module 'numpy' has no attribute 'zeroes'"
          ]
        }
      ]
    },
    {
      "cell_type": "code",
      "source": [
        "np.identity(10)\n",
        "#ini untuk menghasilkan matriks identitas 10x10"
      ],
      "metadata": {
        "colab": {
          "base_uri": "https://localhost:8080/"
        },
        "id": "x0XDoYPaIxgc",
        "outputId": "fe47c686-ad93-461c-84af-7548ce3341b9"
      },
      "execution_count": 88,
      "outputs": [
        {
          "output_type": "execute_result",
          "data": {
            "text/plain": [
              "array([[1., 0., 0., 0., 0., 0., 0., 0., 0., 0.],\n",
              "       [0., 1., 0., 0., 0., 0., 0., 0., 0., 0.],\n",
              "       [0., 0., 1., 0., 0., 0., 0., 0., 0., 0.],\n",
              "       [0., 0., 0., 1., 0., 0., 0., 0., 0., 0.],\n",
              "       [0., 0., 0., 0., 1., 0., 0., 0., 0., 0.],\n",
              "       [0., 0., 0., 0., 0., 1., 0., 0., 0., 0.],\n",
              "       [0., 0., 0., 0., 0., 0., 1., 0., 0., 0.],\n",
              "       [0., 0., 0., 0., 0., 0., 0., 1., 0., 0.],\n",
              "       [0., 0., 0., 0., 0., 0., 0., 0., 1., 0.],\n",
              "       [0., 0., 0., 0., 0., 0., 0., 0., 0., 1.]])"
            ]
          },
          "metadata": {},
          "execution_count": 88
        }
      ]
    },
    {
      "cell_type": "markdown",
      "source": [
        "# **Copy pada Numpy**\n",
        "\n",
        "ini digunakan untuk mencegah perubahan variabel awal yang tidak dikehendaki maka diperlukan perintah copy seperti yang dijabarkan berikut :"
      ],
      "metadata": {
        "id": "GO1Cpcs7JeuS"
      }
    },
    {
      "cell_type": "code",
      "source": [
        "a = np.array([1,2,3,4,5])\n",
        "print(a)\n",
        "#mendeklarasikan nilai a terlebih dulu"
      ],
      "metadata": {
        "colab": {
          "base_uri": "https://localhost:8080/"
        },
        "id": "-DcVSlVkJiho",
        "outputId": "40d552ca-aa6c-4488-ff0f-894db6f41355"
      },
      "execution_count": 89,
      "outputs": [
        {
          "output_type": "stream",
          "name": "stdout",
          "text": [
            "[1 2 3 4 5]\n"
          ]
        }
      ]
    },
    {
      "cell_type": "code",
      "source": [
        "b = a\n",
        "print(b)\n",
        "#ini adalah perintah copy pada numpy untuk meminimalisir kesalahan dalam menyalin\n",
        "#data yang kita punya agar tidak berubah nantinya"
      ],
      "metadata": {
        "colab": {
          "base_uri": "https://localhost:8080/"
        },
        "id": "hU9SgbThJ84v",
        "outputId": "1d62e69a-8c9c-4921-8b48-6f3ec90e23e9"
      },
      "execution_count": 90,
      "outputs": [
        {
          "output_type": "stream",
          "name": "stdout",
          "text": [
            "[1 2 3 4 5]\n"
          ]
        }
      ]
    },
    {
      "cell_type": "code",
      "source": [
        "c = b.copy()\n",
        "print(c)\n",
        "#ini juga merupakan salah satu cara untuk menyalin data pada b tadi yang \n",
        "#sekaligus merupakan data pada a juga "
      ],
      "metadata": {
        "colab": {
          "base_uri": "https://localhost:8080/"
        },
        "id": "t5E3vwPaK5QO",
        "outputId": "3285f75a-8268-43e4-f708-3db65a493c1a"
      },
      "execution_count": 92,
      "outputs": [
        {
          "output_type": "stream",
          "name": "stdout",
          "text": [
            "[1 2 3 4 5]\n"
          ]
        }
      ]
    },
    {
      "cell_type": "code",
      "source": [
        "c[0]=7\n",
        "print(c)\n",
        "#ini untuk merubah nilai indeks ke 0 pada data c"
      ],
      "metadata": {
        "colab": {
          "base_uri": "https://localhost:8080/"
        },
        "id": "bQEC_YtJLI3U",
        "outputId": "c6aa028d-278e-448a-93c2-593b0f92f798"
      },
      "execution_count": 95,
      "outputs": [
        {
          "output_type": "stream",
          "name": "stdout",
          "text": [
            "[7 2 3 4 5]\n"
          ]
        }
      ]
    },
    {
      "cell_type": "code",
      "source": [
        "print(a)\n",
        "#disini terlihat data pada a tidak terjadi perubahan apapun"
      ],
      "metadata": {
        "colab": {
          "base_uri": "https://localhost:8080/"
        },
        "id": "D_2YkRheL9U2",
        "outputId": "69cb1520-c9d6-46f5-8b83-676a7a311cfe"
      },
      "execution_count": 96,
      "outputs": [
        {
          "output_type": "stream",
          "name": "stdout",
          "text": [
            "[1 2 3 4 5]\n"
          ]
        }
      ]
    },
    {
      "cell_type": "markdown",
      "source": [
        "# **Operasi Matematika pada Numpy**"
      ],
      "metadata": {
        "id": "G9mouD2IMLuR"
      }
    },
    {
      "cell_type": "code",
      "source": [
        "print(a)\n",
        "#ini masih menggunakan data yang tadi"
      ],
      "metadata": {
        "colab": {
          "base_uri": "https://localhost:8080/"
        },
        "id": "P0kPEmqUMGHO",
        "outputId": "385c3f99-6260-4534-fa71-49e87cd55374"
      },
      "execution_count": 97,
      "outputs": [
        {
          "output_type": "stream",
          "name": "stdout",
          "text": [
            "[1 2 3 4 5]\n"
          ]
        }
      ]
    },
    {
      "cell_type": "code",
      "source": [
        "d = a**2\n",
        "print(d)\n",
        "#ini untuk menghasilkan data dalam bentuk pangkat dari data a tadi"
      ],
      "metadata": {
        "colab": {
          "base_uri": "https://localhost:8080/"
        },
        "id": "JmmT7Sa4MavC",
        "outputId": "0168fce4-0940-4953-fa85-7a065c07922e"
      },
      "execution_count": 98,
      "outputs": [
        {
          "output_type": "stream",
          "name": "stdout",
          "text": [
            "[ 1  4  9 16 25]\n"
          ]
        }
      ]
    },
    {
      "cell_type": "code",
      "source": [
        "d = a/2\n",
        "print(d)\n",
        "#ini merupakan bentuk pembagian, sama seperti materi sebelumnya\n",
        "#operasi ini pun nanti berlaku pada penjumlahan dan pengurangan "
      ],
      "metadata": {
        "colab": {
          "base_uri": "https://localhost:8080/"
        },
        "id": "JRmA8ssLMkun",
        "outputId": "4e6f802c-7b16-4c6c-d38b-73131dedbfbd"
      },
      "execution_count": 99,
      "outputs": [
        {
          "output_type": "stream",
          "name": "stdout",
          "text": [
            "[0.5 1.  1.5 2.  2.5]\n"
          ]
        }
      ]
    },
    {
      "cell_type": "code",
      "source": [
        "np.cos(d)\n",
        "#dapat juga digunakan untuk mencari nilai sin, cos, tan,cosh,tanh,sqrt juga"
      ],
      "metadata": {
        "colab": {
          "base_uri": "https://localhost:8080/"
        },
        "id": "5AgqWft-Mvth",
        "outputId": "6207ad2c-8463-4f68-aa5d-ebbe3222dad5"
      },
      "execution_count": 101,
      "outputs": [
        {
          "output_type": "execute_result",
          "data": {
            "text/plain": [
              "array([ 0.87758256,  0.54030231,  0.0707372 , -0.41614684, -0.80114362])"
            ]
          },
          "metadata": {},
          "execution_count": 101
        }
      ]
    },
    {
      "cell_type": "code",
      "source": [
        "print(d)\n",
        "#nilai d inilah yang akan diproses bukan nilai d di awal tadi"
      ],
      "metadata": {
        "colab": {
          "base_uri": "https://localhost:8080/"
        },
        "id": "U3uKCcNzNV2e",
        "outputId": "407836e3-dbf6-4f6a-e027-62c5f1a287d2"
      },
      "execution_count": 104,
      "outputs": [
        {
          "output_type": "stream",
          "name": "stdout",
          "text": [
            "[0.5 1.  1.5 2.  2.5]\n"
          ]
        }
      ]
    },
    {
      "cell_type": "code",
      "source": [
        "np.tan(a)\n",
        "#data  pada a yang akan diolah, bukan data d"
      ],
      "metadata": {
        "colab": {
          "base_uri": "https://localhost:8080/"
        },
        "id": "oJI6NTziM_d5",
        "outputId": "3516a38f-8337-4bb4-b9ea-5d09c847f8c7"
      },
      "execution_count": 103,
      "outputs": [
        {
          "output_type": "execute_result",
          "data": {
            "text/plain": [
              "array([ 1.55740772, -2.18503986, -0.14254654,  1.15782128, -3.38051501])"
            ]
          },
          "metadata": {},
          "execution_count": 103
        }
      ]
    },
    {
      "cell_type": "markdown",
      "source": [
        "# **Perkalian Matriks pada Numpy**\n",
        "\n",
        "perkalian pada matriks harus sesuai dengan aturan perkalian matriks misalnya yaitu perkalian matriks (2x3) dengan matriks (3x4)"
      ],
      "metadata": {
        "id": "08GGzL-mNiaZ"
      }
    },
    {
      "cell_type": "code",
      "source": [
        "#Deklarasikan terlebih dahulu nilai matriksnya\n",
        "h = np.array([[3,5,7],[4,5,6]])\n",
        "print(h)"
      ],
      "metadata": {
        "colab": {
          "base_uri": "https://localhost:8080/"
        },
        "id": "2VtA9T7GNoT7",
        "outputId": "a279d154-88a1-437c-de8b-26297164546b"
      },
      "execution_count": 105,
      "outputs": [
        {
          "output_type": "stream",
          "name": "stdout",
          "text": [
            "[[3 5 7]\n",
            " [4 5 6]]\n"
          ]
        }
      ]
    },
    {
      "cell_type": "code",
      "source": [
        "#Deklarasikan matriks kedua\n",
        "j = np.array([[2,5,6],[1,4,7]])\n",
        "print(j)"
      ],
      "metadata": {
        "colab": {
          "base_uri": "https://localhost:8080/"
        },
        "id": "iIiOe_NqOIHD",
        "outputId": "db484d89-f8e2-4e9b-fcfb-a13c1395c3bf"
      },
      "execution_count": 106,
      "outputs": [
        {
          "output_type": "stream",
          "name": "stdout",
          "text": [
            "[[2 5 6]\n",
            " [1 4 7]]\n"
          ]
        }
      ]
    },
    {
      "cell_type": "code",
      "source": [
        "k = h*j \n",
        "print(k)\n",
        "#harus diperhatikan dalam penulisan variabel karena jika variabelnya sama dengan\n",
        "#data sebelumnya maka itu yang akan diproses oleh sistemnya"
      ],
      "metadata": {
        "colab": {
          "base_uri": "https://localhost:8080/"
        },
        "id": "p7rIZ12WOXLw",
        "outputId": "ff79d68e-8dd9-4c68-b90b-226a8780a57d"
      },
      "execution_count": 108,
      "outputs": [
        {
          "output_type": "stream",
          "name": "stdout",
          "text": [
            "[[ 6 25 42]\n",
            " [ 4 20 42]]\n"
          ]
        }
      ]
    },
    {
      "cell_type": "code",
      "source": [
        "i = np.matmul(a,b)\n",
        "print(i)\n",
        "#ini sistem masih menyimpan nilai a dan b pada numpy\n",
        "#nilainya akan dilupakan jika program direstart"
      ],
      "metadata": {
        "colab": {
          "base_uri": "https://localhost:8080/"
        },
        "id": "PAZiekEPOeQB",
        "outputId": "0781969c-42a9-44eb-dea4-95b659377eeb"
      },
      "execution_count": 112,
      "outputs": [
        {
          "output_type": "stream",
          "name": "stdout",
          "text": [
            "55\n"
          ]
        }
      ]
    },
    {
      "cell_type": "code",
      "source": [
        "print(a)\n",
        "#ini adalah nilai a yang digunakan pada kode di atas\n",
        "#nilai b juga sama karena sudah dideskripsikan bahwa b = a"
      ],
      "metadata": {
        "colab": {
          "base_uri": "https://localhost:8080/"
        },
        "id": "MJ_FdDKROwC-",
        "outputId": "92999bc3-5f28-4afc-c152-e77b272cc116"
      },
      "execution_count": 113,
      "outputs": [
        {
          "output_type": "stream",
          "name": "stdout",
          "text": [
            "[1 2 3 4 5]\n"
          ]
        }
      ]
    },
    {
      "cell_type": "markdown",
      "source": [
        "# **Min, Max dan Sum pada Numpy**\n",
        "\n",
        "\n",
        "sesuai dengan namanya, maka operasi ini digunakan untuk mengetahui nilai tertinggi atau max, terendah atau min dan nilai total atau sum"
      ],
      "metadata": {
        "id": "X3ORGwApPYrV"
      }
    },
    {
      "cell_type": "code",
      "source": [
        "print(a)\n",
        "#kita masih memakai data yang sebelumnya"
      ],
      "metadata": {
        "colab": {
          "base_uri": "https://localhost:8080/"
        },
        "id": "jwGMG_c9PfLo",
        "outputId": "2d682940-02ca-4b0d-f111-9edcd90698a2"
      },
      "execution_count": 115,
      "outputs": [
        {
          "output_type": "stream",
          "name": "stdout",
          "text": [
            "[1 2 3 4 5]\n"
          ]
        }
      ]
    },
    {
      "cell_type": "code",
      "source": [
        "t = np.min(a)\n",
        "print(t)\n",
        "#ini adalah perintah mencari nilai min dalam hal ini yaitu pada data a yang\n",
        "#beranggotakan 1,2,3,4,5"
      ],
      "metadata": {
        "colab": {
          "base_uri": "https://localhost:8080/"
        },
        "id": "OvoTPS8dPtDG",
        "outputId": "69171c35-3e63-4545-c313-ca89918c8228"
      },
      "execution_count": 116,
      "outputs": [
        {
          "output_type": "stream",
          "name": "stdout",
          "text": [
            "1\n"
          ]
        }
      ]
    },
    {
      "cell_type": "code",
      "source": [
        "y = np.max(a)\n",
        "print(y)\n",
        "#sebaliknya, ini adalah perintah untuk mencari nilai maksimum dari data a"
      ],
      "metadata": {
        "colab": {
          "base_uri": "https://localhost:8080/"
        },
        "id": "KQHstsikP1td",
        "outputId": "23692cd9-80e0-444d-f9b5-8dcee0b410c1"
      },
      "execution_count": 118,
      "outputs": [
        {
          "output_type": "stream",
          "name": "stdout",
          "text": [
            "5\n"
          ]
        }
      ]
    },
    {
      "cell_type": "code",
      "source": [
        "f = np.max(a,axis =0)\n",
        "print(f)\n",
        "#Ini menentukan sumbu di mana rata-rata dihitung. \n",
        "#Secara default axis=0. \n",
        "#Ini konsisten dengan numpy.mean\n",
        "#penggunaan ketika axis ditentukan secara eksplisit (in numpy.mean, axis==None \n",
        "#secara default, yang menghitung nilai rata-rata di atas larik yang diratakan), \n",
        "#di mana axis=0 sepanjang baris (yaitu, indeks dalam numpy), \n",
        "#dan axis=1 sepanjang kolom "
      ],
      "metadata": {
        "colab": {
          "base_uri": "https://localhost:8080/"
        },
        "id": "oN-TweMpQBz2",
        "outputId": "09787dd4-51a6-4bbb-a2c7-105f008d809f"
      },
      "execution_count": 119,
      "outputs": [
        {
          "output_type": "stream",
          "name": "stdout",
          "text": [
            "5\n"
          ]
        }
      ]
    },
    {
      "cell_type": "code",
      "source": [
        "x = np.sum(a)\n",
        "print(x)\n",
        "#ini adalah perintah untuk menentukan jumlah total dari data yang kita punya"
      ],
      "metadata": {
        "colab": {
          "base_uri": "https://localhost:8080/"
        },
        "id": "fLi9q14rQXuC",
        "outputId": "10f6bbe0-2bea-4456-caf0-1d46d45ed5eb"
      },
      "execution_count": 123,
      "outputs": [
        {
          "output_type": "stream",
          "name": "stdout",
          "text": [
            "15\n"
          ]
        }
      ]
    }
  ]
}